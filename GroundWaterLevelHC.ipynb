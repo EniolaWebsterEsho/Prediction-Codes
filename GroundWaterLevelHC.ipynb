{
  "nbformat": 4,
  "nbformat_minor": 0,
  "metadata": {
    "colab": {
      "provenance": [],
      "authorship_tag": "ABX9TyMGIvQb4S38tJSfEu1Flx/y",
      "include_colab_link": true
    },
    "kernelspec": {
      "name": "python3",
      "display_name": "Python 3"
    },
    "language_info": {
      "name": "python"
    },
    "accelerator": "GPU"
  },
  "cells": [
    {
      "cell_type": "markdown",
      "metadata": {
        "id": "view-in-github",
        "colab_type": "text"
      },
      "source": [
        "<a href=\"https://colab.research.google.com/github/EniolaWebsterEsho/Prediction-Codes/blob/main/GroundWaterLevelHC.ipynb\" target=\"_parent\"><img src=\"https://colab.research.google.com/assets/colab-badge.svg\" alt=\"Open In Colab\"/></a>"
      ]
    },
    {
      "cell_type": "code",
      "execution_count": 1,
      "metadata": {
        "id": "HXzd9N7rr-D4"
      },
      "outputs": [],
      "source": [
        "import pandas as pd\n",
        "import numpy as np\n",
        "from matplotlib import pyplot\n",
        "from statsmodels.tsa.stattools import adfuller\n",
        "import seaborn as sns\n",
        "from sklearn import preprocessing\n",
        "from keras.models import Sequential\n",
        "from keras.layers import Bidirectional, LSTM, Dropout, Dense\n"
      ]
    },
    {
      "cell_type": "markdown",
      "source": [
        "The dataset is available at https://waterdata.usgs.gov/monitoring-location/352315082484401. Monitoring location 352315082484401 is associated with a WELL in HAYWOOD COUNTY, NORTH CAROLINA. (Site 1)"
      ],
      "metadata": {
        "id": "cKwO-LOr76IF"
      }
    },
    {
      "cell_type": "code",
      "execution_count": 2,
      "metadata": {
        "colab": {
          "base_uri": "https://localhost:8080/",
          "height": 73
        },
        "outputId": "82ac8532-1953-4bfc-81ef-82679a9abf1b",
        "id": "b4w7T8zVJSAi"
      },
      "outputs": [
        {
          "output_type": "display_data",
          "data": {
            "text/plain": [
              "<IPython.core.display.HTML object>"
            ],
            "text/html": [
              "\n",
              "     <input type=\"file\" id=\"files-fd732796-023c-4f0d-939e-141683fa7e8e\" name=\"files[]\" multiple disabled\n",
              "        style=\"border:none\" />\n",
              "     <output id=\"result-fd732796-023c-4f0d-939e-141683fa7e8e\">\n",
              "      Upload widget is only available when the cell has been executed in the\n",
              "      current browser session. Please rerun this cell to enable.\n",
              "      </output>\n",
              "      <script>// Copyright 2017 Google LLC\n",
              "//\n",
              "// Licensed under the Apache License, Version 2.0 (the \"License\");\n",
              "// you may not use this file except in compliance with the License.\n",
              "// You may obtain a copy of the License at\n",
              "//\n",
              "//      http://www.apache.org/licenses/LICENSE-2.0\n",
              "//\n",
              "// Unless required by applicable law or agreed to in writing, software\n",
              "// distributed under the License is distributed on an \"AS IS\" BASIS,\n",
              "// WITHOUT WARRANTIES OR CONDITIONS OF ANY KIND, either express or implied.\n",
              "// See the License for the specific language governing permissions and\n",
              "// limitations under the License.\n",
              "\n",
              "/**\n",
              " * @fileoverview Helpers for google.colab Python module.\n",
              " */\n",
              "(function(scope) {\n",
              "function span(text, styleAttributes = {}) {\n",
              "  const element = document.createElement('span');\n",
              "  element.textContent = text;\n",
              "  for (const key of Object.keys(styleAttributes)) {\n",
              "    element.style[key] = styleAttributes[key];\n",
              "  }\n",
              "  return element;\n",
              "}\n",
              "\n",
              "// Max number of bytes which will be uploaded at a time.\n",
              "const MAX_PAYLOAD_SIZE = 100 * 1024;\n",
              "\n",
              "function _uploadFiles(inputId, outputId) {\n",
              "  const steps = uploadFilesStep(inputId, outputId);\n",
              "  const outputElement = document.getElementById(outputId);\n",
              "  // Cache steps on the outputElement to make it available for the next call\n",
              "  // to uploadFilesContinue from Python.\n",
              "  outputElement.steps = steps;\n",
              "\n",
              "  return _uploadFilesContinue(outputId);\n",
              "}\n",
              "\n",
              "// This is roughly an async generator (not supported in the browser yet),\n",
              "// where there are multiple asynchronous steps and the Python side is going\n",
              "// to poll for completion of each step.\n",
              "// This uses a Promise to block the python side on completion of each step,\n",
              "// then passes the result of the previous step as the input to the next step.\n",
              "function _uploadFilesContinue(outputId) {\n",
              "  const outputElement = document.getElementById(outputId);\n",
              "  const steps = outputElement.steps;\n",
              "\n",
              "  const next = steps.next(outputElement.lastPromiseValue);\n",
              "  return Promise.resolve(next.value.promise).then((value) => {\n",
              "    // Cache the last promise value to make it available to the next\n",
              "    // step of the generator.\n",
              "    outputElement.lastPromiseValue = value;\n",
              "    return next.value.response;\n",
              "  });\n",
              "}\n",
              "\n",
              "/**\n",
              " * Generator function which is called between each async step of the upload\n",
              " * process.\n",
              " * @param {string} inputId Element ID of the input file picker element.\n",
              " * @param {string} outputId Element ID of the output display.\n",
              " * @return {!Iterable<!Object>} Iterable of next steps.\n",
              " */\n",
              "function* uploadFilesStep(inputId, outputId) {\n",
              "  const inputElement = document.getElementById(inputId);\n",
              "  inputElement.disabled = false;\n",
              "\n",
              "  const outputElement = document.getElementById(outputId);\n",
              "  outputElement.innerHTML = '';\n",
              "\n",
              "  const pickedPromise = new Promise((resolve) => {\n",
              "    inputElement.addEventListener('change', (e) => {\n",
              "      resolve(e.target.files);\n",
              "    });\n",
              "  });\n",
              "\n",
              "  const cancel = document.createElement('button');\n",
              "  inputElement.parentElement.appendChild(cancel);\n",
              "  cancel.textContent = 'Cancel upload';\n",
              "  const cancelPromise = new Promise((resolve) => {\n",
              "    cancel.onclick = () => {\n",
              "      resolve(null);\n",
              "    };\n",
              "  });\n",
              "\n",
              "  // Wait for the user to pick the files.\n",
              "  const files = yield {\n",
              "    promise: Promise.race([pickedPromise, cancelPromise]),\n",
              "    response: {\n",
              "      action: 'starting',\n",
              "    }\n",
              "  };\n",
              "\n",
              "  cancel.remove();\n",
              "\n",
              "  // Disable the input element since further picks are not allowed.\n",
              "  inputElement.disabled = true;\n",
              "\n",
              "  if (!files) {\n",
              "    return {\n",
              "      response: {\n",
              "        action: 'complete',\n",
              "      }\n",
              "    };\n",
              "  }\n",
              "\n",
              "  for (const file of files) {\n",
              "    const li = document.createElement('li');\n",
              "    li.append(span(file.name, {fontWeight: 'bold'}));\n",
              "    li.append(span(\n",
              "        `(${file.type || 'n/a'}) - ${file.size} bytes, ` +\n",
              "        `last modified: ${\n",
              "            file.lastModifiedDate ? file.lastModifiedDate.toLocaleDateString() :\n",
              "                                    'n/a'} - `));\n",
              "    const percent = span('0% done');\n",
              "    li.appendChild(percent);\n",
              "\n",
              "    outputElement.appendChild(li);\n",
              "\n",
              "    const fileDataPromise = new Promise((resolve) => {\n",
              "      const reader = new FileReader();\n",
              "      reader.onload = (e) => {\n",
              "        resolve(e.target.result);\n",
              "      };\n",
              "      reader.readAsArrayBuffer(file);\n",
              "    });\n",
              "    // Wait for the data to be ready.\n",
              "    let fileData = yield {\n",
              "      promise: fileDataPromise,\n",
              "      response: {\n",
              "        action: 'continue',\n",
              "      }\n",
              "    };\n",
              "\n",
              "    // Use a chunked sending to avoid message size limits. See b/62115660.\n",
              "    let position = 0;\n",
              "    do {\n",
              "      const length = Math.min(fileData.byteLength - position, MAX_PAYLOAD_SIZE);\n",
              "      const chunk = new Uint8Array(fileData, position, length);\n",
              "      position += length;\n",
              "\n",
              "      const base64 = btoa(String.fromCharCode.apply(null, chunk));\n",
              "      yield {\n",
              "        response: {\n",
              "          action: 'append',\n",
              "          file: file.name,\n",
              "          data: base64,\n",
              "        },\n",
              "      };\n",
              "\n",
              "      let percentDone = fileData.byteLength === 0 ?\n",
              "          100 :\n",
              "          Math.round((position / fileData.byteLength) * 100);\n",
              "      percent.textContent = `${percentDone}% done`;\n",
              "\n",
              "    } while (position < fileData.byteLength);\n",
              "  }\n",
              "\n",
              "  // All done.\n",
              "  yield {\n",
              "    response: {\n",
              "      action: 'complete',\n",
              "    }\n",
              "  };\n",
              "}\n",
              "\n",
              "scope.google = scope.google || {};\n",
              "scope.google.colab = scope.google.colab || {};\n",
              "scope.google.colab._files = {\n",
              "  _uploadFiles,\n",
              "  _uploadFilesContinue,\n",
              "};\n",
              "})(self);\n",
              "</script> "
            ]
          },
          "metadata": {}
        },
        {
          "output_type": "stream",
          "name": "stdout",
          "text": [
            "Saving Haywood_County_NC.csv to Haywood_County_NC.csv\n"
          ]
        }
      ],
      "source": [
        "from google.colab import files\n",
        "uploaded = files.upload()"
      ]
    },
    {
      "cell_type": "code",
      "execution_count": 3,
      "metadata": {
        "colab": {
          "base_uri": "https://localhost:8080/",
          "height": 206
        },
        "id": "r19iL360EQIT",
        "outputId": "61113f6e-76a6-4f20-d56d-f2fc041bf3b2"
      },
      "outputs": [
        {
          "output_type": "execute_result",
          "data": {
            "text/plain": [
              "       Date  GWL1t      Et  precip     NETRAD      SWDown      LWDown  \\\n",
              "0  1/1/2000   6.12  1.2759  0.0216  30.972721  105.713292  270.107083   \n",
              "1  1/2/2000   6.13  1.5367  0.0000  27.586476  116.885083  270.900000   \n",
              "2  1/3/2000   6.14  1.5751  0.1808  24.587280  112.307000  280.942500   \n",
              "3  1/4/2000   6.15  1.4269  6.4268  18.449987   50.218667  324.950833   \n",
              "4  1/5/2000   6.16  2.1501  0.0282  36.005409  125.498625  218.488750   \n",
              "\n",
              "    VPD_kPa       U10        U2       Tair        PSurf  \n",
              "0  0.125359  3.936278  2.944143   6.340000  89385.74917  \n",
              "1  0.124477  6.424808  4.805442   9.241667  89436.95792  \n",
              "2  0.149297  7.565854  5.658889  11.062083  89278.24958  \n",
              "3  0.130045  8.781460  6.568103  10.159167  88678.05250  \n",
              "4  0.105620  5.061672  3.785883  -2.307500  89118.60500  "
            ],
            "text/html": [
              "\n",
              "  <div id=\"df-c1a4d23f-f454-43eb-8486-816613e32a18\">\n",
              "    <div class=\"colab-df-container\">\n",
              "      <div>\n",
              "<style scoped>\n",
              "    .dataframe tbody tr th:only-of-type {\n",
              "        vertical-align: middle;\n",
              "    }\n",
              "\n",
              "    .dataframe tbody tr th {\n",
              "        vertical-align: top;\n",
              "    }\n",
              "\n",
              "    .dataframe thead th {\n",
              "        text-align: right;\n",
              "    }\n",
              "</style>\n",
              "<table border=\"1\" class=\"dataframe\">\n",
              "  <thead>\n",
              "    <tr style=\"text-align: right;\">\n",
              "      <th></th>\n",
              "      <th>Date</th>\n",
              "      <th>GWL1t</th>\n",
              "      <th>Et</th>\n",
              "      <th>precip</th>\n",
              "      <th>NETRAD</th>\n",
              "      <th>SWDown</th>\n",
              "      <th>LWDown</th>\n",
              "      <th>VPD_kPa</th>\n",
              "      <th>U10</th>\n",
              "      <th>U2</th>\n",
              "      <th>Tair</th>\n",
              "      <th>PSurf</th>\n",
              "    </tr>\n",
              "  </thead>\n",
              "  <tbody>\n",
              "    <tr>\n",
              "      <th>0</th>\n",
              "      <td>1/1/2000</td>\n",
              "      <td>6.12</td>\n",
              "      <td>1.2759</td>\n",
              "      <td>0.0216</td>\n",
              "      <td>30.972721</td>\n",
              "      <td>105.713292</td>\n",
              "      <td>270.107083</td>\n",
              "      <td>0.125359</td>\n",
              "      <td>3.936278</td>\n",
              "      <td>2.944143</td>\n",
              "      <td>6.340000</td>\n",
              "      <td>89385.74917</td>\n",
              "    </tr>\n",
              "    <tr>\n",
              "      <th>1</th>\n",
              "      <td>1/2/2000</td>\n",
              "      <td>6.13</td>\n",
              "      <td>1.5367</td>\n",
              "      <td>0.0000</td>\n",
              "      <td>27.586476</td>\n",
              "      <td>116.885083</td>\n",
              "      <td>270.900000</td>\n",
              "      <td>0.124477</td>\n",
              "      <td>6.424808</td>\n",
              "      <td>4.805442</td>\n",
              "      <td>9.241667</td>\n",
              "      <td>89436.95792</td>\n",
              "    </tr>\n",
              "    <tr>\n",
              "      <th>2</th>\n",
              "      <td>1/3/2000</td>\n",
              "      <td>6.14</td>\n",
              "      <td>1.5751</td>\n",
              "      <td>0.1808</td>\n",
              "      <td>24.587280</td>\n",
              "      <td>112.307000</td>\n",
              "      <td>280.942500</td>\n",
              "      <td>0.149297</td>\n",
              "      <td>7.565854</td>\n",
              "      <td>5.658889</td>\n",
              "      <td>11.062083</td>\n",
              "      <td>89278.24958</td>\n",
              "    </tr>\n",
              "    <tr>\n",
              "      <th>3</th>\n",
              "      <td>1/4/2000</td>\n",
              "      <td>6.15</td>\n",
              "      <td>1.4269</td>\n",
              "      <td>6.4268</td>\n",
              "      <td>18.449987</td>\n",
              "      <td>50.218667</td>\n",
              "      <td>324.950833</td>\n",
              "      <td>0.130045</td>\n",
              "      <td>8.781460</td>\n",
              "      <td>6.568103</td>\n",
              "      <td>10.159167</td>\n",
              "      <td>88678.05250</td>\n",
              "    </tr>\n",
              "    <tr>\n",
              "      <th>4</th>\n",
              "      <td>1/5/2000</td>\n",
              "      <td>6.16</td>\n",
              "      <td>2.1501</td>\n",
              "      <td>0.0282</td>\n",
              "      <td>36.005409</td>\n",
              "      <td>125.498625</td>\n",
              "      <td>218.488750</td>\n",
              "      <td>0.105620</td>\n",
              "      <td>5.061672</td>\n",
              "      <td>3.785883</td>\n",
              "      <td>-2.307500</td>\n",
              "      <td>89118.60500</td>\n",
              "    </tr>\n",
              "  </tbody>\n",
              "</table>\n",
              "</div>\n",
              "      <button class=\"colab-df-convert\" onclick=\"convertToInteractive('df-c1a4d23f-f454-43eb-8486-816613e32a18')\"\n",
              "              title=\"Convert this dataframe to an interactive table.\"\n",
              "              style=\"display:none;\">\n",
              "        \n",
              "  <svg xmlns=\"http://www.w3.org/2000/svg\" height=\"24px\"viewBox=\"0 0 24 24\"\n",
              "       width=\"24px\">\n",
              "    <path d=\"M0 0h24v24H0V0z\" fill=\"none\"/>\n",
              "    <path d=\"M18.56 5.44l.94 2.06.94-2.06 2.06-.94-2.06-.94-.94-2.06-.94 2.06-2.06.94zm-11 1L8.5 8.5l.94-2.06 2.06-.94-2.06-.94L8.5 2.5l-.94 2.06-2.06.94zm10 10l.94 2.06.94-2.06 2.06-.94-2.06-.94-.94-2.06-.94 2.06-2.06.94z\"/><path d=\"M17.41 7.96l-1.37-1.37c-.4-.4-.92-.59-1.43-.59-.52 0-1.04.2-1.43.59L10.3 9.45l-7.72 7.72c-.78.78-.78 2.05 0 2.83L4 21.41c.39.39.9.59 1.41.59.51 0 1.02-.2 1.41-.59l7.78-7.78 2.81-2.81c.8-.78.8-2.07 0-2.86zM5.41 20L4 18.59l7.72-7.72 1.47 1.35L5.41 20z\"/>\n",
              "  </svg>\n",
              "      </button>\n",
              "      \n",
              "  <style>\n",
              "    .colab-df-container {\n",
              "      display:flex;\n",
              "      flex-wrap:wrap;\n",
              "      gap: 12px;\n",
              "    }\n",
              "\n",
              "    .colab-df-convert {\n",
              "      background-color: #E8F0FE;\n",
              "      border: none;\n",
              "      border-radius: 50%;\n",
              "      cursor: pointer;\n",
              "      display: none;\n",
              "      fill: #1967D2;\n",
              "      height: 32px;\n",
              "      padding: 0 0 0 0;\n",
              "      width: 32px;\n",
              "    }\n",
              "\n",
              "    .colab-df-convert:hover {\n",
              "      background-color: #E2EBFA;\n",
              "      box-shadow: 0px 1px 2px rgba(60, 64, 67, 0.3), 0px 1px 3px 1px rgba(60, 64, 67, 0.15);\n",
              "      fill: #174EA6;\n",
              "    }\n",
              "\n",
              "    [theme=dark] .colab-df-convert {\n",
              "      background-color: #3B4455;\n",
              "      fill: #D2E3FC;\n",
              "    }\n",
              "\n",
              "    [theme=dark] .colab-df-convert:hover {\n",
              "      background-color: #434B5C;\n",
              "      box-shadow: 0px 1px 3px 1px rgba(0, 0, 0, 0.15);\n",
              "      filter: drop-shadow(0px 1px 2px rgba(0, 0, 0, 0.3));\n",
              "      fill: #FFFFFF;\n",
              "    }\n",
              "  </style>\n",
              "\n",
              "      <script>\n",
              "        const buttonEl =\n",
              "          document.querySelector('#df-c1a4d23f-f454-43eb-8486-816613e32a18 button.colab-df-convert');\n",
              "        buttonEl.style.display =\n",
              "          google.colab.kernel.accessAllowed ? 'block' : 'none';\n",
              "\n",
              "        async function convertToInteractive(key) {\n",
              "          const element = document.querySelector('#df-c1a4d23f-f454-43eb-8486-816613e32a18');\n",
              "          const dataTable =\n",
              "            await google.colab.kernel.invokeFunction('convertToInteractive',\n",
              "                                                     [key], {});\n",
              "          if (!dataTable) return;\n",
              "\n",
              "          const docLinkHtml = 'Like what you see? Visit the ' +\n",
              "            '<a target=\"_blank\" href=https://colab.research.google.com/notebooks/data_table.ipynb>data table notebook</a>'\n",
              "            + ' to learn more about interactive tables.';\n",
              "          element.innerHTML = '';\n",
              "          dataTable['output_type'] = 'display_data';\n",
              "          await google.colab.output.renderOutput(dataTable, element);\n",
              "          const docLink = document.createElement('div');\n",
              "          docLink.innerHTML = docLinkHtml;\n",
              "          element.appendChild(docLink);\n",
              "        }\n",
              "      </script>\n",
              "    </div>\n",
              "  </div>\n",
              "  "
            ]
          },
          "metadata": {},
          "execution_count": 3
        }
      ],
      "source": [
        "df = pd.read_csv('Haywood_County_NC.csv', parse_dates=True)\n",
        "df.head()"
      ]
    },
    {
      "cell_type": "code",
      "source": [
        "df.describe()"
      ],
      "metadata": {
        "colab": {
          "base_uri": "https://localhost:8080/",
          "height": 344
        },
        "id": "3u2ASwC18H9Y",
        "outputId": "2b35e755-77ad-44cc-9a9d-03cda02905d0"
      },
      "execution_count": 4,
      "outputs": [
        {
          "output_type": "execute_result",
          "data": {
            "text/plain": [
              "             GWL1t           Et       precip       NETRAD       SWDown  \\\n",
              "count  7282.000000  7305.000000  7304.000000  7305.000000  7305.000000   \n",
              "mean      5.261012     4.108924     3.640882   107.913961   189.789483   \n",
              "std       0.948452     1.983640     8.826032    61.653550    71.903395   \n",
              "min       0.450000    -6.945900     0.000000   -77.040420    26.014875   \n",
              "25%       4.730000     2.437700     0.000000    51.658770   129.078458   \n",
              "50%       5.390000     4.080500     0.114050   110.085091   193.529833   \n",
              "75%       5.970000     5.802600     2.963325   162.313881   249.669000   \n",
              "max       6.960000     9.023900   125.565600   247.921423   331.853833   \n",
              "\n",
              "            LWDown      VPD_kPa          U10           U2          Tair  \\\n",
              "count  7305.000000  7305.000000  7305.000000  7305.000000   7305.000000   \n",
              "mean    295.860032     0.320316     4.295023     3.211876     22.761434   \n",
              "std      53.799749     0.205817     2.252325     1.685027   1033.102096   \n",
              "min       0.120197    -0.034408     0.014440    -0.081250    -17.691250   \n",
              "25%     253.430417     0.165192     2.650433     1.981980      4.593750   \n",
              "50%     304.622917     0.294779     3.974359     2.972538     11.954585   \n",
              "75%     341.051667     0.443119     5.607649     4.194224     17.878761   \n",
              "max     404.493750     7.573875    15.659211    11.712324  88306.415830   \n",
              "\n",
              "              PSurf  \n",
              "count   7305.000000  \n",
              "mean   89175.898959  \n",
              "std     1146.888419  \n",
              "min        1.704500  \n",
              "25%    88914.862500  \n",
              "50%    89248.145830  \n",
              "75%    89517.508330  \n",
              "max    90626.235000  "
            ],
            "text/html": [
              "\n",
              "  <div id=\"df-a7838ec9-e940-403e-a2d1-582043d1ad55\">\n",
              "    <div class=\"colab-df-container\">\n",
              "      <div>\n",
              "<style scoped>\n",
              "    .dataframe tbody tr th:only-of-type {\n",
              "        vertical-align: middle;\n",
              "    }\n",
              "\n",
              "    .dataframe tbody tr th {\n",
              "        vertical-align: top;\n",
              "    }\n",
              "\n",
              "    .dataframe thead th {\n",
              "        text-align: right;\n",
              "    }\n",
              "</style>\n",
              "<table border=\"1\" class=\"dataframe\">\n",
              "  <thead>\n",
              "    <tr style=\"text-align: right;\">\n",
              "      <th></th>\n",
              "      <th>GWL1t</th>\n",
              "      <th>Et</th>\n",
              "      <th>precip</th>\n",
              "      <th>NETRAD</th>\n",
              "      <th>SWDown</th>\n",
              "      <th>LWDown</th>\n",
              "      <th>VPD_kPa</th>\n",
              "      <th>U10</th>\n",
              "      <th>U2</th>\n",
              "      <th>Tair</th>\n",
              "      <th>PSurf</th>\n",
              "    </tr>\n",
              "  </thead>\n",
              "  <tbody>\n",
              "    <tr>\n",
              "      <th>count</th>\n",
              "      <td>7282.000000</td>\n",
              "      <td>7305.000000</td>\n",
              "      <td>7304.000000</td>\n",
              "      <td>7305.000000</td>\n",
              "      <td>7305.000000</td>\n",
              "      <td>7305.000000</td>\n",
              "      <td>7305.000000</td>\n",
              "      <td>7305.000000</td>\n",
              "      <td>7305.000000</td>\n",
              "      <td>7305.000000</td>\n",
              "      <td>7305.000000</td>\n",
              "    </tr>\n",
              "    <tr>\n",
              "      <th>mean</th>\n",
              "      <td>5.261012</td>\n",
              "      <td>4.108924</td>\n",
              "      <td>3.640882</td>\n",
              "      <td>107.913961</td>\n",
              "      <td>189.789483</td>\n",
              "      <td>295.860032</td>\n",
              "      <td>0.320316</td>\n",
              "      <td>4.295023</td>\n",
              "      <td>3.211876</td>\n",
              "      <td>22.761434</td>\n",
              "      <td>89175.898959</td>\n",
              "    </tr>\n",
              "    <tr>\n",
              "      <th>std</th>\n",
              "      <td>0.948452</td>\n",
              "      <td>1.983640</td>\n",
              "      <td>8.826032</td>\n",
              "      <td>61.653550</td>\n",
              "      <td>71.903395</td>\n",
              "      <td>53.799749</td>\n",
              "      <td>0.205817</td>\n",
              "      <td>2.252325</td>\n",
              "      <td>1.685027</td>\n",
              "      <td>1033.102096</td>\n",
              "      <td>1146.888419</td>\n",
              "    </tr>\n",
              "    <tr>\n",
              "      <th>min</th>\n",
              "      <td>0.450000</td>\n",
              "      <td>-6.945900</td>\n",
              "      <td>0.000000</td>\n",
              "      <td>-77.040420</td>\n",
              "      <td>26.014875</td>\n",
              "      <td>0.120197</td>\n",
              "      <td>-0.034408</td>\n",
              "      <td>0.014440</td>\n",
              "      <td>-0.081250</td>\n",
              "      <td>-17.691250</td>\n",
              "      <td>1.704500</td>\n",
              "    </tr>\n",
              "    <tr>\n",
              "      <th>25%</th>\n",
              "      <td>4.730000</td>\n",
              "      <td>2.437700</td>\n",
              "      <td>0.000000</td>\n",
              "      <td>51.658770</td>\n",
              "      <td>129.078458</td>\n",
              "      <td>253.430417</td>\n",
              "      <td>0.165192</td>\n",
              "      <td>2.650433</td>\n",
              "      <td>1.981980</td>\n",
              "      <td>4.593750</td>\n",
              "      <td>88914.862500</td>\n",
              "    </tr>\n",
              "    <tr>\n",
              "      <th>50%</th>\n",
              "      <td>5.390000</td>\n",
              "      <td>4.080500</td>\n",
              "      <td>0.114050</td>\n",
              "      <td>110.085091</td>\n",
              "      <td>193.529833</td>\n",
              "      <td>304.622917</td>\n",
              "      <td>0.294779</td>\n",
              "      <td>3.974359</td>\n",
              "      <td>2.972538</td>\n",
              "      <td>11.954585</td>\n",
              "      <td>89248.145830</td>\n",
              "    </tr>\n",
              "    <tr>\n",
              "      <th>75%</th>\n",
              "      <td>5.970000</td>\n",
              "      <td>5.802600</td>\n",
              "      <td>2.963325</td>\n",
              "      <td>162.313881</td>\n",
              "      <td>249.669000</td>\n",
              "      <td>341.051667</td>\n",
              "      <td>0.443119</td>\n",
              "      <td>5.607649</td>\n",
              "      <td>4.194224</td>\n",
              "      <td>17.878761</td>\n",
              "      <td>89517.508330</td>\n",
              "    </tr>\n",
              "    <tr>\n",
              "      <th>max</th>\n",
              "      <td>6.960000</td>\n",
              "      <td>9.023900</td>\n",
              "      <td>125.565600</td>\n",
              "      <td>247.921423</td>\n",
              "      <td>331.853833</td>\n",
              "      <td>404.493750</td>\n",
              "      <td>7.573875</td>\n",
              "      <td>15.659211</td>\n",
              "      <td>11.712324</td>\n",
              "      <td>88306.415830</td>\n",
              "      <td>90626.235000</td>\n",
              "    </tr>\n",
              "  </tbody>\n",
              "</table>\n",
              "</div>\n",
              "      <button class=\"colab-df-convert\" onclick=\"convertToInteractive('df-a7838ec9-e940-403e-a2d1-582043d1ad55')\"\n",
              "              title=\"Convert this dataframe to an interactive table.\"\n",
              "              style=\"display:none;\">\n",
              "        \n",
              "  <svg xmlns=\"http://www.w3.org/2000/svg\" height=\"24px\"viewBox=\"0 0 24 24\"\n",
              "       width=\"24px\">\n",
              "    <path d=\"M0 0h24v24H0V0z\" fill=\"none\"/>\n",
              "    <path d=\"M18.56 5.44l.94 2.06.94-2.06 2.06-.94-2.06-.94-.94-2.06-.94 2.06-2.06.94zm-11 1L8.5 8.5l.94-2.06 2.06-.94-2.06-.94L8.5 2.5l-.94 2.06-2.06.94zm10 10l.94 2.06.94-2.06 2.06-.94-2.06-.94-.94-2.06-.94 2.06-2.06.94z\"/><path d=\"M17.41 7.96l-1.37-1.37c-.4-.4-.92-.59-1.43-.59-.52 0-1.04.2-1.43.59L10.3 9.45l-7.72 7.72c-.78.78-.78 2.05 0 2.83L4 21.41c.39.39.9.59 1.41.59.51 0 1.02-.2 1.41-.59l7.78-7.78 2.81-2.81c.8-.78.8-2.07 0-2.86zM5.41 20L4 18.59l7.72-7.72 1.47 1.35L5.41 20z\"/>\n",
              "  </svg>\n",
              "      </button>\n",
              "      \n",
              "  <style>\n",
              "    .colab-df-container {\n",
              "      display:flex;\n",
              "      flex-wrap:wrap;\n",
              "      gap: 12px;\n",
              "    }\n",
              "\n",
              "    .colab-df-convert {\n",
              "      background-color: #E8F0FE;\n",
              "      border: none;\n",
              "      border-radius: 50%;\n",
              "      cursor: pointer;\n",
              "      display: none;\n",
              "      fill: #1967D2;\n",
              "      height: 32px;\n",
              "      padding: 0 0 0 0;\n",
              "      width: 32px;\n",
              "    }\n",
              "\n",
              "    .colab-df-convert:hover {\n",
              "      background-color: #E2EBFA;\n",
              "      box-shadow: 0px 1px 2px rgba(60, 64, 67, 0.3), 0px 1px 3px 1px rgba(60, 64, 67, 0.15);\n",
              "      fill: #174EA6;\n",
              "    }\n",
              "\n",
              "    [theme=dark] .colab-df-convert {\n",
              "      background-color: #3B4455;\n",
              "      fill: #D2E3FC;\n",
              "    }\n",
              "\n",
              "    [theme=dark] .colab-df-convert:hover {\n",
              "      background-color: #434B5C;\n",
              "      box-shadow: 0px 1px 3px 1px rgba(0, 0, 0, 0.15);\n",
              "      filter: drop-shadow(0px 1px 2px rgba(0, 0, 0, 0.3));\n",
              "      fill: #FFFFFF;\n",
              "    }\n",
              "  </style>\n",
              "\n",
              "      <script>\n",
              "        const buttonEl =\n",
              "          document.querySelector('#df-a7838ec9-e940-403e-a2d1-582043d1ad55 button.colab-df-convert');\n",
              "        buttonEl.style.display =\n",
              "          google.colab.kernel.accessAllowed ? 'block' : 'none';\n",
              "\n",
              "        async function convertToInteractive(key) {\n",
              "          const element = document.querySelector('#df-a7838ec9-e940-403e-a2d1-582043d1ad55');\n",
              "          const dataTable =\n",
              "            await google.colab.kernel.invokeFunction('convertToInteractive',\n",
              "                                                     [key], {});\n",
              "          if (!dataTable) return;\n",
              "\n",
              "          const docLinkHtml = 'Like what you see? Visit the ' +\n",
              "            '<a target=\"_blank\" href=https://colab.research.google.com/notebooks/data_table.ipynb>data table notebook</a>'\n",
              "            + ' to learn more about interactive tables.';\n",
              "          element.innerHTML = '';\n",
              "          dataTable['output_type'] = 'display_data';\n",
              "          await google.colab.output.renderOutput(dataTable, element);\n",
              "          const docLink = document.createElement('div');\n",
              "          docLink.innerHTML = docLinkHtml;\n",
              "          element.appendChild(docLink);\n",
              "        }\n",
              "      </script>\n",
              "    </div>\n",
              "  </div>\n",
              "  "
            ]
          },
          "metadata": {},
          "execution_count": 4
        }
      ]
    },
    {
      "cell_type": "code",
      "source": [
        "df.info()"
      ],
      "metadata": {
        "colab": {
          "base_uri": "https://localhost:8080/"
        },
        "id": "4wSBfSZU8Uh_",
        "outputId": "1ae381a0-f3dd-4b21-b581-89bfb2af5a2b"
      },
      "execution_count": 5,
      "outputs": [
        {
          "output_type": "stream",
          "name": "stdout",
          "text": [
            "<class 'pandas.core.frame.DataFrame'>\n",
            "RangeIndex: 7305 entries, 0 to 7304\n",
            "Data columns (total 12 columns):\n",
            " #   Column   Non-Null Count  Dtype  \n",
            "---  ------   --------------  -----  \n",
            " 0   Date     7305 non-null   object \n",
            " 1   GWL1t    7282 non-null   float64\n",
            " 2   Et       7305 non-null   float64\n",
            " 3   precip   7304 non-null   float64\n",
            " 4   NETRAD   7305 non-null   float64\n",
            " 5   SWDown   7305 non-null   float64\n",
            " 6   LWDown   7305 non-null   float64\n",
            " 7   VPD_kPa  7305 non-null   float64\n",
            " 8   U10      7305 non-null   float64\n",
            " 9   U2       7305 non-null   float64\n",
            " 10  Tair     7305 non-null   float64\n",
            " 11  PSurf    7305 non-null   float64\n",
            "dtypes: float64(11), object(1)\n",
            "memory usage: 685.0+ KB\n"
          ]
        }
      ]
    },
    {
      "cell_type": "code",
      "execution_count": 6,
      "metadata": {
        "colab": {
          "base_uri": "https://localhost:8080/",
          "height": 357
        },
        "id": "IKYWtIMrRpq_",
        "outputId": "5bcae715-ee88-4dfa-8f36-e19bafe8c1a9"
      },
      "outputs": [
        {
          "output_type": "execute_result",
          "data": {
            "text/plain": [
              "            Date  GWL1t      Et   precip     NETRAD      SWDown      LWDown  \\\n",
              "7300  12/27/2019   5.40  1.4796   0.0684 -22.663569  116.778917  220.271667   \n",
              "7301  12/28/2019   5.44  1.8146   0.9780 -53.799579  124.293667  188.136667   \n",
              "7302  12/29/2019   5.46  1.2317   8.0592 -53.845100  124.942292  200.525833   \n",
              "7303  12/30/2019   5.32  3.0291  12.8310 -18.417262  122.359708  224.143750   \n",
              "7304  12/31/2019   5.28  0.5168      NaN  73.452042  223.274583    0.120197   \n",
              "\n",
              "       VPD_kPa       U10        U2          Tair        PSurf  timestamp  \\\n",
              "7300  0.201657  4.402815  3.293091      9.145417  89543.48750 2019-12-27   \n",
              "7301  0.160877  3.147484  2.354164     10.284583  89593.23167 2019-12-28   \n",
              "7302  0.100012  7.590631  5.677421     12.872083  89013.20500 2019-12-29   \n",
              "7303  0.189872  7.598267  5.683132     10.067083  88276.32667 2019-12-30   \n",
              "7304  7.573875  5.664888 -0.081250  88306.415830      1.70450 2019-12-31   \n",
              "\n",
              "      Year  Month  \n",
              "7300  2019     12  \n",
              "7301  2019     12  \n",
              "7302  2019     12  \n",
              "7303  2019     12  \n",
              "7304  2019     12  "
            ],
            "text/html": [
              "\n",
              "  <div id=\"df-02540147-cc3b-4926-ad06-20786183da04\">\n",
              "    <div class=\"colab-df-container\">\n",
              "      <div>\n",
              "<style scoped>\n",
              "    .dataframe tbody tr th:only-of-type {\n",
              "        vertical-align: middle;\n",
              "    }\n",
              "\n",
              "    .dataframe tbody tr th {\n",
              "        vertical-align: top;\n",
              "    }\n",
              "\n",
              "    .dataframe thead th {\n",
              "        text-align: right;\n",
              "    }\n",
              "</style>\n",
              "<table border=\"1\" class=\"dataframe\">\n",
              "  <thead>\n",
              "    <tr style=\"text-align: right;\">\n",
              "      <th></th>\n",
              "      <th>Date</th>\n",
              "      <th>GWL1t</th>\n",
              "      <th>Et</th>\n",
              "      <th>precip</th>\n",
              "      <th>NETRAD</th>\n",
              "      <th>SWDown</th>\n",
              "      <th>LWDown</th>\n",
              "      <th>VPD_kPa</th>\n",
              "      <th>U10</th>\n",
              "      <th>U2</th>\n",
              "      <th>Tair</th>\n",
              "      <th>PSurf</th>\n",
              "      <th>timestamp</th>\n",
              "      <th>Year</th>\n",
              "      <th>Month</th>\n",
              "    </tr>\n",
              "  </thead>\n",
              "  <tbody>\n",
              "    <tr>\n",
              "      <th>7300</th>\n",
              "      <td>12/27/2019</td>\n",
              "      <td>5.40</td>\n",
              "      <td>1.4796</td>\n",
              "      <td>0.0684</td>\n",
              "      <td>-22.663569</td>\n",
              "      <td>116.778917</td>\n",
              "      <td>220.271667</td>\n",
              "      <td>0.201657</td>\n",
              "      <td>4.402815</td>\n",
              "      <td>3.293091</td>\n",
              "      <td>9.145417</td>\n",
              "      <td>89543.48750</td>\n",
              "      <td>2019-12-27</td>\n",
              "      <td>2019</td>\n",
              "      <td>12</td>\n",
              "    </tr>\n",
              "    <tr>\n",
              "      <th>7301</th>\n",
              "      <td>12/28/2019</td>\n",
              "      <td>5.44</td>\n",
              "      <td>1.8146</td>\n",
              "      <td>0.9780</td>\n",
              "      <td>-53.799579</td>\n",
              "      <td>124.293667</td>\n",
              "      <td>188.136667</td>\n",
              "      <td>0.160877</td>\n",
              "      <td>3.147484</td>\n",
              "      <td>2.354164</td>\n",
              "      <td>10.284583</td>\n",
              "      <td>89593.23167</td>\n",
              "      <td>2019-12-28</td>\n",
              "      <td>2019</td>\n",
              "      <td>12</td>\n",
              "    </tr>\n",
              "    <tr>\n",
              "      <th>7302</th>\n",
              "      <td>12/29/2019</td>\n",
              "      <td>5.46</td>\n",
              "      <td>1.2317</td>\n",
              "      <td>8.0592</td>\n",
              "      <td>-53.845100</td>\n",
              "      <td>124.942292</td>\n",
              "      <td>200.525833</td>\n",
              "      <td>0.100012</td>\n",
              "      <td>7.590631</td>\n",
              "      <td>5.677421</td>\n",
              "      <td>12.872083</td>\n",
              "      <td>89013.20500</td>\n",
              "      <td>2019-12-29</td>\n",
              "      <td>2019</td>\n",
              "      <td>12</td>\n",
              "    </tr>\n",
              "    <tr>\n",
              "      <th>7303</th>\n",
              "      <td>12/30/2019</td>\n",
              "      <td>5.32</td>\n",
              "      <td>3.0291</td>\n",
              "      <td>12.8310</td>\n",
              "      <td>-18.417262</td>\n",
              "      <td>122.359708</td>\n",
              "      <td>224.143750</td>\n",
              "      <td>0.189872</td>\n",
              "      <td>7.598267</td>\n",
              "      <td>5.683132</td>\n",
              "      <td>10.067083</td>\n",
              "      <td>88276.32667</td>\n",
              "      <td>2019-12-30</td>\n",
              "      <td>2019</td>\n",
              "      <td>12</td>\n",
              "    </tr>\n",
              "    <tr>\n",
              "      <th>7304</th>\n",
              "      <td>12/31/2019</td>\n",
              "      <td>5.28</td>\n",
              "      <td>0.5168</td>\n",
              "      <td>NaN</td>\n",
              "      <td>73.452042</td>\n",
              "      <td>223.274583</td>\n",
              "      <td>0.120197</td>\n",
              "      <td>7.573875</td>\n",
              "      <td>5.664888</td>\n",
              "      <td>-0.081250</td>\n",
              "      <td>88306.415830</td>\n",
              "      <td>1.70450</td>\n",
              "      <td>2019-12-31</td>\n",
              "      <td>2019</td>\n",
              "      <td>12</td>\n",
              "    </tr>\n",
              "  </tbody>\n",
              "</table>\n",
              "</div>\n",
              "      <button class=\"colab-df-convert\" onclick=\"convertToInteractive('df-02540147-cc3b-4926-ad06-20786183da04')\"\n",
              "              title=\"Convert this dataframe to an interactive table.\"\n",
              "              style=\"display:none;\">\n",
              "        \n",
              "  <svg xmlns=\"http://www.w3.org/2000/svg\" height=\"24px\"viewBox=\"0 0 24 24\"\n",
              "       width=\"24px\">\n",
              "    <path d=\"M0 0h24v24H0V0z\" fill=\"none\"/>\n",
              "    <path d=\"M18.56 5.44l.94 2.06.94-2.06 2.06-.94-2.06-.94-.94-2.06-.94 2.06-2.06.94zm-11 1L8.5 8.5l.94-2.06 2.06-.94-2.06-.94L8.5 2.5l-.94 2.06-2.06.94zm10 10l.94 2.06.94-2.06 2.06-.94-2.06-.94-.94-2.06-.94 2.06-2.06.94z\"/><path d=\"M17.41 7.96l-1.37-1.37c-.4-.4-.92-.59-1.43-.59-.52 0-1.04.2-1.43.59L10.3 9.45l-7.72 7.72c-.78.78-.78 2.05 0 2.83L4 21.41c.39.39.9.59 1.41.59.51 0 1.02-.2 1.41-.59l7.78-7.78 2.81-2.81c.8-.78.8-2.07 0-2.86zM5.41 20L4 18.59l7.72-7.72 1.47 1.35L5.41 20z\"/>\n",
              "  </svg>\n",
              "      </button>\n",
              "      \n",
              "  <style>\n",
              "    .colab-df-container {\n",
              "      display:flex;\n",
              "      flex-wrap:wrap;\n",
              "      gap: 12px;\n",
              "    }\n",
              "\n",
              "    .colab-df-convert {\n",
              "      background-color: #E8F0FE;\n",
              "      border: none;\n",
              "      border-radius: 50%;\n",
              "      cursor: pointer;\n",
              "      display: none;\n",
              "      fill: #1967D2;\n",
              "      height: 32px;\n",
              "      padding: 0 0 0 0;\n",
              "      width: 32px;\n",
              "    }\n",
              "\n",
              "    .colab-df-convert:hover {\n",
              "      background-color: #E2EBFA;\n",
              "      box-shadow: 0px 1px 2px rgba(60, 64, 67, 0.3), 0px 1px 3px 1px rgba(60, 64, 67, 0.15);\n",
              "      fill: #174EA6;\n",
              "    }\n",
              "\n",
              "    [theme=dark] .colab-df-convert {\n",
              "      background-color: #3B4455;\n",
              "      fill: #D2E3FC;\n",
              "    }\n",
              "\n",
              "    [theme=dark] .colab-df-convert:hover {\n",
              "      background-color: #434B5C;\n",
              "      box-shadow: 0px 1px 3px 1px rgba(0, 0, 0, 0.15);\n",
              "      filter: drop-shadow(0px 1px 2px rgba(0, 0, 0, 0.3));\n",
              "      fill: #FFFFFF;\n",
              "    }\n",
              "  </style>\n",
              "\n",
              "      <script>\n",
              "        const buttonEl =\n",
              "          document.querySelector('#df-02540147-cc3b-4926-ad06-20786183da04 button.colab-df-convert');\n",
              "        buttonEl.style.display =\n",
              "          google.colab.kernel.accessAllowed ? 'block' : 'none';\n",
              "\n",
              "        async function convertToInteractive(key) {\n",
              "          const element = document.querySelector('#df-02540147-cc3b-4926-ad06-20786183da04');\n",
              "          const dataTable =\n",
              "            await google.colab.kernel.invokeFunction('convertToInteractive',\n",
              "                                                     [key], {});\n",
              "          if (!dataTable) return;\n",
              "\n",
              "          const docLinkHtml = 'Like what you see? Visit the ' +\n",
              "            '<a target=\"_blank\" href=https://colab.research.google.com/notebooks/data_table.ipynb>data table notebook</a>'\n",
              "            + ' to learn more about interactive tables.';\n",
              "          element.innerHTML = '';\n",
              "          dataTable['output_type'] = 'display_data';\n",
              "          await google.colab.output.renderOutput(dataTable, element);\n",
              "          const docLink = document.createElement('div');\n",
              "          docLink.innerHTML = docLinkHtml;\n",
              "          element.appendChild(docLink);\n",
              "        }\n",
              "      </script>\n",
              "    </div>\n",
              "  </div>\n",
              "  "
            ]
          },
          "metadata": {},
          "execution_count": 6
        }
      ],
      "source": [
        "df['timestamp'] = pd.to_datetime(df['Date'])\n",
        "df['Year'] = df.timestamp.dt.year\n",
        "df['Month'] = df.timestamp.dt.month\n",
        "df.head()\n",
        "df.tail()"
      ]
    },
    {
      "cell_type": "code",
      "source": [
        "df.drop([\"Et\",\"NETRAD\",\"SWDown\",\"LWDown\",\"VPD_kPa\",\"U10\",\"U2\",\"PSurf\",\"Year\",\"Month\"],axis = 1, inplace=True)"
      ],
      "metadata": {
        "id": "t9d3KFx69L29"
      },
      "execution_count": 7,
      "outputs": []
    },
    {
      "cell_type": "code",
      "source": [
        "df.head()"
      ],
      "metadata": {
        "colab": {
          "base_uri": "https://localhost:8080/",
          "height": 206
        },
        "id": "uHzOvSfyC863",
        "outputId": "01932ae7-8c65-4be0-8661-fff6342a7cbd"
      },
      "execution_count": 8,
      "outputs": [
        {
          "output_type": "execute_result",
          "data": {
            "text/plain": [
              "       Date  GWL1t  precip       Tair  timestamp\n",
              "0  1/1/2000   6.12  0.0216   6.340000 2000-01-01\n",
              "1  1/2/2000   6.13  0.0000   9.241667 2000-01-02\n",
              "2  1/3/2000   6.14  0.1808  11.062083 2000-01-03\n",
              "3  1/4/2000   6.15  6.4268  10.159167 2000-01-04\n",
              "4  1/5/2000   6.16  0.0282  -2.307500 2000-01-05"
            ],
            "text/html": [
              "\n",
              "  <div id=\"df-5f9f608a-99ea-4de7-b543-b8f36f9ee989\">\n",
              "    <div class=\"colab-df-container\">\n",
              "      <div>\n",
              "<style scoped>\n",
              "    .dataframe tbody tr th:only-of-type {\n",
              "        vertical-align: middle;\n",
              "    }\n",
              "\n",
              "    .dataframe tbody tr th {\n",
              "        vertical-align: top;\n",
              "    }\n",
              "\n",
              "    .dataframe thead th {\n",
              "        text-align: right;\n",
              "    }\n",
              "</style>\n",
              "<table border=\"1\" class=\"dataframe\">\n",
              "  <thead>\n",
              "    <tr style=\"text-align: right;\">\n",
              "      <th></th>\n",
              "      <th>Date</th>\n",
              "      <th>GWL1t</th>\n",
              "      <th>precip</th>\n",
              "      <th>Tair</th>\n",
              "      <th>timestamp</th>\n",
              "    </tr>\n",
              "  </thead>\n",
              "  <tbody>\n",
              "    <tr>\n",
              "      <th>0</th>\n",
              "      <td>1/1/2000</td>\n",
              "      <td>6.12</td>\n",
              "      <td>0.0216</td>\n",
              "      <td>6.340000</td>\n",
              "      <td>2000-01-01</td>\n",
              "    </tr>\n",
              "    <tr>\n",
              "      <th>1</th>\n",
              "      <td>1/2/2000</td>\n",
              "      <td>6.13</td>\n",
              "      <td>0.0000</td>\n",
              "      <td>9.241667</td>\n",
              "      <td>2000-01-02</td>\n",
              "    </tr>\n",
              "    <tr>\n",
              "      <th>2</th>\n",
              "      <td>1/3/2000</td>\n",
              "      <td>6.14</td>\n",
              "      <td>0.1808</td>\n",
              "      <td>11.062083</td>\n",
              "      <td>2000-01-03</td>\n",
              "    </tr>\n",
              "    <tr>\n",
              "      <th>3</th>\n",
              "      <td>1/4/2000</td>\n",
              "      <td>6.15</td>\n",
              "      <td>6.4268</td>\n",
              "      <td>10.159167</td>\n",
              "      <td>2000-01-04</td>\n",
              "    </tr>\n",
              "    <tr>\n",
              "      <th>4</th>\n",
              "      <td>1/5/2000</td>\n",
              "      <td>6.16</td>\n",
              "      <td>0.0282</td>\n",
              "      <td>-2.307500</td>\n",
              "      <td>2000-01-05</td>\n",
              "    </tr>\n",
              "  </tbody>\n",
              "</table>\n",
              "</div>\n",
              "      <button class=\"colab-df-convert\" onclick=\"convertToInteractive('df-5f9f608a-99ea-4de7-b543-b8f36f9ee989')\"\n",
              "              title=\"Convert this dataframe to an interactive table.\"\n",
              "              style=\"display:none;\">\n",
              "        \n",
              "  <svg xmlns=\"http://www.w3.org/2000/svg\" height=\"24px\"viewBox=\"0 0 24 24\"\n",
              "       width=\"24px\">\n",
              "    <path d=\"M0 0h24v24H0V0z\" fill=\"none\"/>\n",
              "    <path d=\"M18.56 5.44l.94 2.06.94-2.06 2.06-.94-2.06-.94-.94-2.06-.94 2.06-2.06.94zm-11 1L8.5 8.5l.94-2.06 2.06-.94-2.06-.94L8.5 2.5l-.94 2.06-2.06.94zm10 10l.94 2.06.94-2.06 2.06-.94-2.06-.94-.94-2.06-.94 2.06-2.06.94z\"/><path d=\"M17.41 7.96l-1.37-1.37c-.4-.4-.92-.59-1.43-.59-.52 0-1.04.2-1.43.59L10.3 9.45l-7.72 7.72c-.78.78-.78 2.05 0 2.83L4 21.41c.39.39.9.59 1.41.59.51 0 1.02-.2 1.41-.59l7.78-7.78 2.81-2.81c.8-.78.8-2.07 0-2.86zM5.41 20L4 18.59l7.72-7.72 1.47 1.35L5.41 20z\"/>\n",
              "  </svg>\n",
              "      </button>\n",
              "      \n",
              "  <style>\n",
              "    .colab-df-container {\n",
              "      display:flex;\n",
              "      flex-wrap:wrap;\n",
              "      gap: 12px;\n",
              "    }\n",
              "\n",
              "    .colab-df-convert {\n",
              "      background-color: #E8F0FE;\n",
              "      border: none;\n",
              "      border-radius: 50%;\n",
              "      cursor: pointer;\n",
              "      display: none;\n",
              "      fill: #1967D2;\n",
              "      height: 32px;\n",
              "      padding: 0 0 0 0;\n",
              "      width: 32px;\n",
              "    }\n",
              "\n",
              "    .colab-df-convert:hover {\n",
              "      background-color: #E2EBFA;\n",
              "      box-shadow: 0px 1px 2px rgba(60, 64, 67, 0.3), 0px 1px 3px 1px rgba(60, 64, 67, 0.15);\n",
              "      fill: #174EA6;\n",
              "    }\n",
              "\n",
              "    [theme=dark] .colab-df-convert {\n",
              "      background-color: #3B4455;\n",
              "      fill: #D2E3FC;\n",
              "    }\n",
              "\n",
              "    [theme=dark] .colab-df-convert:hover {\n",
              "      background-color: #434B5C;\n",
              "      box-shadow: 0px 1px 3px 1px rgba(0, 0, 0, 0.15);\n",
              "      filter: drop-shadow(0px 1px 2px rgba(0, 0, 0, 0.3));\n",
              "      fill: #FFFFFF;\n",
              "    }\n",
              "  </style>\n",
              "\n",
              "      <script>\n",
              "        const buttonEl =\n",
              "          document.querySelector('#df-5f9f608a-99ea-4de7-b543-b8f36f9ee989 button.colab-df-convert');\n",
              "        buttonEl.style.display =\n",
              "          google.colab.kernel.accessAllowed ? 'block' : 'none';\n",
              "\n",
              "        async function convertToInteractive(key) {\n",
              "          const element = document.querySelector('#df-5f9f608a-99ea-4de7-b543-b8f36f9ee989');\n",
              "          const dataTable =\n",
              "            await google.colab.kernel.invokeFunction('convertToInteractive',\n",
              "                                                     [key], {});\n",
              "          if (!dataTable) return;\n",
              "\n",
              "          const docLinkHtml = 'Like what you see? Visit the ' +\n",
              "            '<a target=\"_blank\" href=https://colab.research.google.com/notebooks/data_table.ipynb>data table notebook</a>'\n",
              "            + ' to learn more about interactive tables.';\n",
              "          element.innerHTML = '';\n",
              "          dataTable['output_type'] = 'display_data';\n",
              "          await google.colab.output.renderOutput(dataTable, element);\n",
              "          const docLink = document.createElement('div');\n",
              "          docLink.innerHTML = docLinkHtml;\n",
              "          element.appendChild(docLink);\n",
              "        }\n",
              "      </script>\n",
              "    </div>\n",
              "  </div>\n",
              "  "
            ]
          },
          "metadata": {},
          "execution_count": 8
        }
      ]
    },
    {
      "cell_type": "code",
      "source": [
        "df.isnull().sum()"
      ],
      "metadata": {
        "colab": {
          "base_uri": "https://localhost:8080/"
        },
        "id": "ua3CkORh1ezy",
        "outputId": "1496cea4-a9d2-4298-cbf1-a06278842fe2"
      },
      "execution_count": 9,
      "outputs": [
        {
          "output_type": "execute_result",
          "data": {
            "text/plain": [
              "Date          0\n",
              "GWL1t        23\n",
              "precip        1\n",
              "Tair          0\n",
              "timestamp     0\n",
              "dtype: int64"
            ]
          },
          "metadata": {},
          "execution_count": 9
        }
      ]
    },
    {
      "cell_type": "code",
      "source": [
        "df=df.dropna(axis=0,how='any')"
      ],
      "metadata": {
        "id": "3FIhN1uH1kxa"
      },
      "execution_count": 10,
      "outputs": []
    },
    {
      "cell_type": "code",
      "source": [
        "df.isnull().sum()"
      ],
      "metadata": {
        "colab": {
          "base_uri": "https://localhost:8080/"
        },
        "id": "AJtR7rf_2AmK",
        "outputId": "0833c045-d50c-4e2f-d7d1-4916d1a2df87"
      },
      "execution_count": 11,
      "outputs": [
        {
          "output_type": "execute_result",
          "data": {
            "text/plain": [
              "Date         0\n",
              "GWL1t        0\n",
              "precip       0\n",
              "Tair         0\n",
              "timestamp    0\n",
              "dtype: int64"
            ]
          },
          "metadata": {},
          "execution_count": 11
        }
      ]
    },
    {
      "cell_type": "code",
      "source": [
        "df.head()"
      ],
      "metadata": {
        "colab": {
          "base_uri": "https://localhost:8080/",
          "height": 206
        },
        "id": "LjJRB3k0Pf7H",
        "outputId": "82070539-84b6-47dd-e5e4-e184737c4910"
      },
      "execution_count": 12,
      "outputs": [
        {
          "output_type": "execute_result",
          "data": {
            "text/plain": [
              "       Date  GWL1t  precip       Tair  timestamp\n",
              "0  1/1/2000   6.12  0.0216   6.340000 2000-01-01\n",
              "1  1/2/2000   6.13  0.0000   9.241667 2000-01-02\n",
              "2  1/3/2000   6.14  0.1808  11.062083 2000-01-03\n",
              "3  1/4/2000   6.15  6.4268  10.159167 2000-01-04\n",
              "4  1/5/2000   6.16  0.0282  -2.307500 2000-01-05"
            ],
            "text/html": [
              "\n",
              "  <div id=\"df-647e88c5-944b-438d-8e1c-3f9d81742b97\">\n",
              "    <div class=\"colab-df-container\">\n",
              "      <div>\n",
              "<style scoped>\n",
              "    .dataframe tbody tr th:only-of-type {\n",
              "        vertical-align: middle;\n",
              "    }\n",
              "\n",
              "    .dataframe tbody tr th {\n",
              "        vertical-align: top;\n",
              "    }\n",
              "\n",
              "    .dataframe thead th {\n",
              "        text-align: right;\n",
              "    }\n",
              "</style>\n",
              "<table border=\"1\" class=\"dataframe\">\n",
              "  <thead>\n",
              "    <tr style=\"text-align: right;\">\n",
              "      <th></th>\n",
              "      <th>Date</th>\n",
              "      <th>GWL1t</th>\n",
              "      <th>precip</th>\n",
              "      <th>Tair</th>\n",
              "      <th>timestamp</th>\n",
              "    </tr>\n",
              "  </thead>\n",
              "  <tbody>\n",
              "    <tr>\n",
              "      <th>0</th>\n",
              "      <td>1/1/2000</td>\n",
              "      <td>6.12</td>\n",
              "      <td>0.0216</td>\n",
              "      <td>6.340000</td>\n",
              "      <td>2000-01-01</td>\n",
              "    </tr>\n",
              "    <tr>\n",
              "      <th>1</th>\n",
              "      <td>1/2/2000</td>\n",
              "      <td>6.13</td>\n",
              "      <td>0.0000</td>\n",
              "      <td>9.241667</td>\n",
              "      <td>2000-01-02</td>\n",
              "    </tr>\n",
              "    <tr>\n",
              "      <th>2</th>\n",
              "      <td>1/3/2000</td>\n",
              "      <td>6.14</td>\n",
              "      <td>0.1808</td>\n",
              "      <td>11.062083</td>\n",
              "      <td>2000-01-03</td>\n",
              "    </tr>\n",
              "    <tr>\n",
              "      <th>3</th>\n",
              "      <td>1/4/2000</td>\n",
              "      <td>6.15</td>\n",
              "      <td>6.4268</td>\n",
              "      <td>10.159167</td>\n",
              "      <td>2000-01-04</td>\n",
              "    </tr>\n",
              "    <tr>\n",
              "      <th>4</th>\n",
              "      <td>1/5/2000</td>\n",
              "      <td>6.16</td>\n",
              "      <td>0.0282</td>\n",
              "      <td>-2.307500</td>\n",
              "      <td>2000-01-05</td>\n",
              "    </tr>\n",
              "  </tbody>\n",
              "</table>\n",
              "</div>\n",
              "      <button class=\"colab-df-convert\" onclick=\"convertToInteractive('df-647e88c5-944b-438d-8e1c-3f9d81742b97')\"\n",
              "              title=\"Convert this dataframe to an interactive table.\"\n",
              "              style=\"display:none;\">\n",
              "        \n",
              "  <svg xmlns=\"http://www.w3.org/2000/svg\" height=\"24px\"viewBox=\"0 0 24 24\"\n",
              "       width=\"24px\">\n",
              "    <path d=\"M0 0h24v24H0V0z\" fill=\"none\"/>\n",
              "    <path d=\"M18.56 5.44l.94 2.06.94-2.06 2.06-.94-2.06-.94-.94-2.06-.94 2.06-2.06.94zm-11 1L8.5 8.5l.94-2.06 2.06-.94-2.06-.94L8.5 2.5l-.94 2.06-2.06.94zm10 10l.94 2.06.94-2.06 2.06-.94-2.06-.94-.94-2.06-.94 2.06-2.06.94z\"/><path d=\"M17.41 7.96l-1.37-1.37c-.4-.4-.92-.59-1.43-.59-.52 0-1.04.2-1.43.59L10.3 9.45l-7.72 7.72c-.78.78-.78 2.05 0 2.83L4 21.41c.39.39.9.59 1.41.59.51 0 1.02-.2 1.41-.59l7.78-7.78 2.81-2.81c.8-.78.8-2.07 0-2.86zM5.41 20L4 18.59l7.72-7.72 1.47 1.35L5.41 20z\"/>\n",
              "  </svg>\n",
              "      </button>\n",
              "      \n",
              "  <style>\n",
              "    .colab-df-container {\n",
              "      display:flex;\n",
              "      flex-wrap:wrap;\n",
              "      gap: 12px;\n",
              "    }\n",
              "\n",
              "    .colab-df-convert {\n",
              "      background-color: #E8F0FE;\n",
              "      border: none;\n",
              "      border-radius: 50%;\n",
              "      cursor: pointer;\n",
              "      display: none;\n",
              "      fill: #1967D2;\n",
              "      height: 32px;\n",
              "      padding: 0 0 0 0;\n",
              "      width: 32px;\n",
              "    }\n",
              "\n",
              "    .colab-df-convert:hover {\n",
              "      background-color: #E2EBFA;\n",
              "      box-shadow: 0px 1px 2px rgba(60, 64, 67, 0.3), 0px 1px 3px 1px rgba(60, 64, 67, 0.15);\n",
              "      fill: #174EA6;\n",
              "    }\n",
              "\n",
              "    [theme=dark] .colab-df-convert {\n",
              "      background-color: #3B4455;\n",
              "      fill: #D2E3FC;\n",
              "    }\n",
              "\n",
              "    [theme=dark] .colab-df-convert:hover {\n",
              "      background-color: #434B5C;\n",
              "      box-shadow: 0px 1px 3px 1px rgba(0, 0, 0, 0.15);\n",
              "      filter: drop-shadow(0px 1px 2px rgba(0, 0, 0, 0.3));\n",
              "      fill: #FFFFFF;\n",
              "    }\n",
              "  </style>\n",
              "\n",
              "      <script>\n",
              "        const buttonEl =\n",
              "          document.querySelector('#df-647e88c5-944b-438d-8e1c-3f9d81742b97 button.colab-df-convert');\n",
              "        buttonEl.style.display =\n",
              "          google.colab.kernel.accessAllowed ? 'block' : 'none';\n",
              "\n",
              "        async function convertToInteractive(key) {\n",
              "          const element = document.querySelector('#df-647e88c5-944b-438d-8e1c-3f9d81742b97');\n",
              "          const dataTable =\n",
              "            await google.colab.kernel.invokeFunction('convertToInteractive',\n",
              "                                                     [key], {});\n",
              "          if (!dataTable) return;\n",
              "\n",
              "          const docLinkHtml = 'Like what you see? Visit the ' +\n",
              "            '<a target=\"_blank\" href=https://colab.research.google.com/notebooks/data_table.ipynb>data table notebook</a>'\n",
              "            + ' to learn more about interactive tables.';\n",
              "          element.innerHTML = '';\n",
              "          dataTable['output_type'] = 'display_data';\n",
              "          await google.colab.output.renderOutput(dataTable, element);\n",
              "          const docLink = document.createElement('div');\n",
              "          docLink.innerHTML = docLinkHtml;\n",
              "          element.appendChild(docLink);\n",
              "        }\n",
              "      </script>\n",
              "    </div>\n",
              "  </div>\n",
              "  "
            ]
          },
          "metadata": {},
          "execution_count": 12
        }
      ]
    },
    {
      "cell_type": "code",
      "execution_count": 13,
      "metadata": {
        "id": "clrdnFLEPnon"
      },
      "outputs": [],
      "source": [
        "MinMax_scaler = preprocessing.MinMaxScaler()\n",
        "scaled_data = MinMax_scaler.fit_transform(df[['GWL1t','precip',\"Tair\"]])"
      ]
    },
    {
      "cell_type": "code",
      "execution_count": 14,
      "metadata": {
        "colab": {
          "base_uri": "https://localhost:8080/",
          "height": 206
        },
        "outputId": "c1281779-72c6-44d1-9768-3b71e50b3319",
        "id": "YGeG1uRFP_lj"
      },
      "outputs": [
        {
          "output_type": "execute_result",
          "data": {
            "text/plain": [
              "       Date     GWL1t    precip      Tair  timestamp\n",
              "0  1/1/2000  0.870968  0.000172  0.570390 2000-01-01\n",
              "1  1/2/2000  0.872504  0.000000  0.639262 2000-01-02\n",
              "2  1/3/2000  0.874040  0.001440  0.682470 2000-01-03\n",
              "3  1/4/2000  0.875576  0.051183  0.661039 2000-01-04\n",
              "4  1/5/2000  0.877112  0.000225  0.365139 2000-01-05"
            ],
            "text/html": [
              "\n",
              "  <div id=\"df-633ec142-c9c1-4cff-aab7-36461f05003a\">\n",
              "    <div class=\"colab-df-container\">\n",
              "      <div>\n",
              "<style scoped>\n",
              "    .dataframe tbody tr th:only-of-type {\n",
              "        vertical-align: middle;\n",
              "    }\n",
              "\n",
              "    .dataframe tbody tr th {\n",
              "        vertical-align: top;\n",
              "    }\n",
              "\n",
              "    .dataframe thead th {\n",
              "        text-align: right;\n",
              "    }\n",
              "</style>\n",
              "<table border=\"1\" class=\"dataframe\">\n",
              "  <thead>\n",
              "    <tr style=\"text-align: right;\">\n",
              "      <th></th>\n",
              "      <th>Date</th>\n",
              "      <th>GWL1t</th>\n",
              "      <th>precip</th>\n",
              "      <th>Tair</th>\n",
              "      <th>timestamp</th>\n",
              "    </tr>\n",
              "  </thead>\n",
              "  <tbody>\n",
              "    <tr>\n",
              "      <th>0</th>\n",
              "      <td>1/1/2000</td>\n",
              "      <td>0.870968</td>\n",
              "      <td>0.000172</td>\n",
              "      <td>0.570390</td>\n",
              "      <td>2000-01-01</td>\n",
              "    </tr>\n",
              "    <tr>\n",
              "      <th>1</th>\n",
              "      <td>1/2/2000</td>\n",
              "      <td>0.872504</td>\n",
              "      <td>0.000000</td>\n",
              "      <td>0.639262</td>\n",
              "      <td>2000-01-02</td>\n",
              "    </tr>\n",
              "    <tr>\n",
              "      <th>2</th>\n",
              "      <td>1/3/2000</td>\n",
              "      <td>0.874040</td>\n",
              "      <td>0.001440</td>\n",
              "      <td>0.682470</td>\n",
              "      <td>2000-01-03</td>\n",
              "    </tr>\n",
              "    <tr>\n",
              "      <th>3</th>\n",
              "      <td>1/4/2000</td>\n",
              "      <td>0.875576</td>\n",
              "      <td>0.051183</td>\n",
              "      <td>0.661039</td>\n",
              "      <td>2000-01-04</td>\n",
              "    </tr>\n",
              "    <tr>\n",
              "      <th>4</th>\n",
              "      <td>1/5/2000</td>\n",
              "      <td>0.877112</td>\n",
              "      <td>0.000225</td>\n",
              "      <td>0.365139</td>\n",
              "      <td>2000-01-05</td>\n",
              "    </tr>\n",
              "  </tbody>\n",
              "</table>\n",
              "</div>\n",
              "      <button class=\"colab-df-convert\" onclick=\"convertToInteractive('df-633ec142-c9c1-4cff-aab7-36461f05003a')\"\n",
              "              title=\"Convert this dataframe to an interactive table.\"\n",
              "              style=\"display:none;\">\n",
              "        \n",
              "  <svg xmlns=\"http://www.w3.org/2000/svg\" height=\"24px\"viewBox=\"0 0 24 24\"\n",
              "       width=\"24px\">\n",
              "    <path d=\"M0 0h24v24H0V0z\" fill=\"none\"/>\n",
              "    <path d=\"M18.56 5.44l.94 2.06.94-2.06 2.06-.94-2.06-.94-.94-2.06-.94 2.06-2.06.94zm-11 1L8.5 8.5l.94-2.06 2.06-.94-2.06-.94L8.5 2.5l-.94 2.06-2.06.94zm10 10l.94 2.06.94-2.06 2.06-.94-2.06-.94-.94-2.06-.94 2.06-2.06.94z\"/><path d=\"M17.41 7.96l-1.37-1.37c-.4-.4-.92-.59-1.43-.59-.52 0-1.04.2-1.43.59L10.3 9.45l-7.72 7.72c-.78.78-.78 2.05 0 2.83L4 21.41c.39.39.9.59 1.41.59.51 0 1.02-.2 1.41-.59l7.78-7.78 2.81-2.81c.8-.78.8-2.07 0-2.86zM5.41 20L4 18.59l7.72-7.72 1.47 1.35L5.41 20z\"/>\n",
              "  </svg>\n",
              "      </button>\n",
              "      \n",
              "  <style>\n",
              "    .colab-df-container {\n",
              "      display:flex;\n",
              "      flex-wrap:wrap;\n",
              "      gap: 12px;\n",
              "    }\n",
              "\n",
              "    .colab-df-convert {\n",
              "      background-color: #E8F0FE;\n",
              "      border: none;\n",
              "      border-radius: 50%;\n",
              "      cursor: pointer;\n",
              "      display: none;\n",
              "      fill: #1967D2;\n",
              "      height: 32px;\n",
              "      padding: 0 0 0 0;\n",
              "      width: 32px;\n",
              "    }\n",
              "\n",
              "    .colab-df-convert:hover {\n",
              "      background-color: #E2EBFA;\n",
              "      box-shadow: 0px 1px 2px rgba(60, 64, 67, 0.3), 0px 1px 3px 1px rgba(60, 64, 67, 0.15);\n",
              "      fill: #174EA6;\n",
              "    }\n",
              "\n",
              "    [theme=dark] .colab-df-convert {\n",
              "      background-color: #3B4455;\n",
              "      fill: #D2E3FC;\n",
              "    }\n",
              "\n",
              "    [theme=dark] .colab-df-convert:hover {\n",
              "      background-color: #434B5C;\n",
              "      box-shadow: 0px 1px 3px 1px rgba(0, 0, 0, 0.15);\n",
              "      filter: drop-shadow(0px 1px 2px rgba(0, 0, 0, 0.3));\n",
              "      fill: #FFFFFF;\n",
              "    }\n",
              "  </style>\n",
              "\n",
              "      <script>\n",
              "        const buttonEl =\n",
              "          document.querySelector('#df-633ec142-c9c1-4cff-aab7-36461f05003a button.colab-df-convert');\n",
              "        buttonEl.style.display =\n",
              "          google.colab.kernel.accessAllowed ? 'block' : 'none';\n",
              "\n",
              "        async function convertToInteractive(key) {\n",
              "          const element = document.querySelector('#df-633ec142-c9c1-4cff-aab7-36461f05003a');\n",
              "          const dataTable =\n",
              "            await google.colab.kernel.invokeFunction('convertToInteractive',\n",
              "                                                     [key], {});\n",
              "          if (!dataTable) return;\n",
              "\n",
              "          const docLinkHtml = 'Like what you see? Visit the ' +\n",
              "            '<a target=\"_blank\" href=https://colab.research.google.com/notebooks/data_table.ipynb>data table notebook</a>'\n",
              "            + ' to learn more about interactive tables.';\n",
              "          element.innerHTML = '';\n",
              "          dataTable['output_type'] = 'display_data';\n",
              "          await google.colab.output.renderOutput(dataTable, element);\n",
              "          const docLink = document.createElement('div');\n",
              "          docLink.innerHTML = docLinkHtml;\n",
              "          element.appendChild(docLink);\n",
              "        }\n",
              "      </script>\n",
              "    </div>\n",
              "  </div>\n",
              "  "
            ]
          },
          "metadata": {},
          "execution_count": 14
        }
      ],
      "source": [
        "scaled_df = df.copy()\n",
        "scaled_df['GWL1t'] = scaled_data[:, 0]\n",
        "scaled_df['precip'] = scaled_data[:, 1]\n",
        "scaled_df['Tair'] = scaled_data[:, 2]\n",
        "#scaled_df['Year'] = scaled_data[:, 3]\n",
        "#scaled_df['Month'] = scaled_data[:, 4]\n",
        "scaled_df.head()"
      ]
    },
    {
      "cell_type": "code",
      "execution_count": 15,
      "metadata": {
        "id": "CR6t82NrHgYK"
      },
      "outputs": [],
      "source": [
        "time_step = 1"
      ]
    },
    {
      "cell_type": "code",
      "execution_count": 16,
      "metadata": {
        "colab": {
          "base_uri": "https://localhost:8080/"
        },
        "id": "a0b9BQtRfcUk",
        "outputId": "5e8d4b9e-54f1-4dfb-e595-f8b09a5201e5"
      },
      "outputs": [
        {
          "output_type": "stream",
          "name": "stdout",
          "text": [
            "size of the dataset: 7281\n",
            "Training examples: 6552\n",
            "size of the test dataset: 729\n"
          ]
        }
      ],
      "source": [
        "#training_size = int(len(scaled_df) * 0.9)\n",
        "#training, testing = scaled_df[0:training_size], scaled_df[training_size:len(df)]\n",
        "#print('size of the dataset: %d' % (len(scaled_df)))\n",
        "#print('Training examples: %d' % (len(training)))\n",
        "#print('size of the test dataset: %d' % (len(testing)))\n",
        "training_size = int(len(scaled_df) * 0.9)\n",
        "training, testing = scaled_df[0:training_size], scaled_df[training_size:]\n",
        "print('size of the dataset: %d' % (len(scaled_df)))\n",
        "print('Training examples: %d' % (len(training)))\n",
        "print('size of the test dataset: %d' % (len(testing)))"
      ]
    },
    {
      "cell_type": "code",
      "execution_count": 17,
      "metadata": {
        "id": "cUlUX6-87DCC"
      },
      "outputs": [],
      "source": [
        "#X_train = training[['GWL1t', 'precip','Tair','Year','Month']].to_numpy()\n",
        "#Y_train = scaled_df[time_step:testing.index[0]]['GWL1t'].to_numpy()\n",
        "x_train = training[['precip','Tair']].to_numpy()\n",
        "y_train = training['GWL1t'].to_numpy()"
      ]
    },
    {
      "cell_type": "code",
      "execution_count": 18,
      "metadata": {
        "id": "c-_Qott27JoA"
      },
      "outputs": [],
      "source": [
        "#X_test = testing[0:-time_step][['GWL1t','precip','Tair','Year','Month']].to_numpy()\n",
        "#Y_test = scaled_df[testing.index[0] + time_step:]['GWL1t'].to_numpy()\n",
        "x_test = testing[['precip','Tair']].to_numpy()\n",
        "y_test = testing['GWL1t'].to_numpy()"
      ]
    },
    {
      "cell_type": "code",
      "source": [
        "x_train.shape"
      ],
      "metadata": {
        "colab": {
          "base_uri": "https://localhost:8080/"
        },
        "id": "bUPzVo0f9gq9",
        "outputId": "3ca519c0-8b90-41a5-98e8-53ee8dad4bb9"
      },
      "execution_count": 19,
      "outputs": [
        {
          "output_type": "execute_result",
          "data": {
            "text/plain": [
              "(6552, 2)"
            ]
          },
          "metadata": {},
          "execution_count": 19
        }
      ]
    },
    {
      "cell_type": "code",
      "source": [
        "y_train=y_train[:6552,]"
      ],
      "metadata": {
        "id": "ivE2_0To31lf"
      },
      "execution_count": 20,
      "outputs": []
    },
    {
      "cell_type": "code",
      "source": [
        "y_train.shape"
      ],
      "metadata": {
        "colab": {
          "base_uri": "https://localhost:8080/"
        },
        "id": "mo5HugEi3qLs",
        "outputId": "6ee48606-2ae5-4a4e-e2bf-494c423c48cb"
      },
      "execution_count": 21,
      "outputs": [
        {
          "output_type": "execute_result",
          "data": {
            "text/plain": [
              "(6552,)"
            ]
          },
          "metadata": {},
          "execution_count": 21
        }
      ]
    },
    {
      "cell_type": "code",
      "source": [
        "x_test=x_test[:705,]"
      ],
      "metadata": {
        "id": "PeCwhYUm4Hvr"
      },
      "execution_count": 22,
      "outputs": []
    },
    {
      "cell_type": "code",
      "source": [
        "x_test.shape"
      ],
      "metadata": {
        "colab": {
          "base_uri": "https://localhost:8080/"
        },
        "id": "QFe6zIuw9mWZ",
        "outputId": "b572770a-91eb-4dd3-f47b-7b3f9634c2d6"
      },
      "execution_count": 23,
      "outputs": [
        {
          "output_type": "execute_result",
          "data": {
            "text/plain": [
              "(705, 2)"
            ]
          },
          "metadata": {},
          "execution_count": 23
        }
      ]
    },
    {
      "cell_type": "code",
      "source": [
        "y_test=y_test[:705,]"
      ],
      "metadata": {
        "id": "LdgjUNkr7eSo"
      },
      "execution_count": 24,
      "outputs": []
    },
    {
      "cell_type": "code",
      "source": [
        "y_test.shape"
      ],
      "metadata": {
        "colab": {
          "base_uri": "https://localhost:8080/"
        },
        "id": "tJtxLfvf4BEf",
        "outputId": "599dd6b7-38e5-4c6c-dd5b-9dd304189314"
      },
      "execution_count": 25,
      "outputs": [
        {
          "output_type": "execute_result",
          "data": {
            "text/plain": [
              "(705,)"
            ]
          },
          "metadata": {},
          "execution_count": 25
        }
      ]
    },
    {
      "cell_type": "markdown",
      "source": [
        "### **Linear Regression**"
      ],
      "metadata": {
        "id": "ObwSMtAPR9WR"
      }
    },
    {
      "cell_type": "code",
      "source": [
        "from sklearn import linear_model\n",
        "from sklearn.metrics import mean_squared_error, r2_score\n",
        "\n",
        "regr = linear_model.LinearRegression()\n",
        "regr.fit(x_train, y_train)"
      ],
      "metadata": {
        "colab": {
          "base_uri": "https://localhost:8080/"
        },
        "id": "IOnPTVCQ0YVj",
        "outputId": "264bbd74-f7a4-4096-e5b6-4ba3e79382f2"
      },
      "execution_count": 26,
      "outputs": [
        {
          "output_type": "execute_result",
          "data": {
            "text/plain": [
              "LinearRegression()"
            ]
          },
          "metadata": {},
          "execution_count": 26
        }
      ]
    },
    {
      "cell_type": "code",
      "source": [
        "# Make predictions using the testing set\n",
        "y_pred = regr.predict(x_test)"
      ],
      "metadata": {
        "id": "NfOA4IDkzyno"
      },
      "execution_count": 27,
      "outputs": []
    },
    {
      "cell_type": "code",
      "source": [
        "y_pred.shape"
      ],
      "metadata": {
        "colab": {
          "base_uri": "https://localhost:8080/"
        },
        "id": "L6SpL0Kv4neI",
        "outputId": "1505f6b5-300e-4ed0-d055-3370b5eb6ffe"
      },
      "execution_count": 28,
      "outputs": [
        {
          "output_type": "execute_result",
          "data": {
            "text/plain": [
              "(705,)"
            ]
          },
          "metadata": {},
          "execution_count": 28
        }
      ]
    },
    {
      "cell_type": "code",
      "source": [
        "#The coefficients\n",
        "print(\"Coefficients: \\n\", regr.coef_)\n",
        "# The mean squared error\n",
        "print(\"Mean squared error: %.2f\" % mean_squared_error(y_test,y_pred))\n",
        "# The coefficient of determination: 1 is perfect prediction\n",
        "print(\"R2_score: %.2f\" % r2_score(y_test,y_pred))#"
      ],
      "metadata": {
        "colab": {
          "base_uri": "https://localhost:8080/"
        },
        "id": "0j9qt8n6z4i3",
        "outputId": "448e06d8-9d76-4565-9bc8-c3035579819c"
      },
      "execution_count": 29,
      "outputs": [
        {
          "output_type": "stream",
          "name": "stdout",
          "text": [
            "Coefficients: \n",
            " [-0.3897911   0.10928405]\n",
            "Mean squared error: 0.03\n",
            "R2_score: -0.62\n"
          ]
        }
      ]
    },
    {
      "cell_type": "code",
      "source": [
        "from scipy import stats\n",
        "\n",
        "#turn array into a list\n",
        "arr_x = x_test[:,0]\n",
        "x = arr_x.tolist()\n",
        "arr_y_pred = y_pred\n",
        "y_p = arr_y_pred.tolist()\n",
        "\n",
        "#Execute a method that returns some important key values of Linear Regression:\n",
        "slope, intercept, r, p, std_err = stats.linregress(x, y_p)\n",
        "\n",
        "#Create a function that uses the slope and intercept values to return a new value. \n",
        "#This new value represents where on the y-axis the corresponding x value will be placed:\n",
        "def myfunc(x):\n",
        "  return slope * x + intercept\n",
        "\n",
        "#Run each value of the x array through the function. This will result in a new array with new values for the y-axis:\n",
        "mymodel = list(map(myfunc, x))\n",
        "\n",
        "#Draw the original scatter plot:\n",
        "pyplot.figure(figsize=(10,5))\n",
        "pyplot.scatter(x_test[:,0], y_test, color=\"blue\", label = \"Actual\")\n",
        "pyplot.scatter(x_test[:,0], y_pred, color=\"red\", label =\"Predicted\")\n",
        "\n",
        "#Draw the line of linear regression:\n",
        "pyplot.plot(x, mymodel)\n",
        "\n",
        "pyplot.xlabel(\"Precipitation\")\n",
        "pyplot.ylabel(\"GroundWater Level\")\n",
        "pyplot.legend(loc='upper right', fontsize='large')\n",
        "pyplot.show()"
      ],
      "metadata": {
        "colab": {
          "base_uri": "https://localhost:8080/",
          "height": 334
        },
        "id": "ocPo9GmJ89t1",
        "outputId": "496fbef6-d48c-45b7-ac66-a1251146164b"
      },
      "execution_count": 30,
      "outputs": [
        {
          "output_type": "display_data",
          "data": {
            "text/plain": [
              "<Figure size 720x360 with 1 Axes>"
            ],
            "image/png": "[encoded data removed]"
          },
          "metadata": {
            "needs_background": "light"
          }
        }
      ]
    },
    {
      "cell_type": "code",
      "source": [
        "#turn array into a list\n",
        "arr_x = x_test[:,1]\n",
        "x = arr_x.tolist()\n",
        "arr_y_pred = y_pred\n",
        "y_p = arr_y_pred.tolist()\n",
        "\n",
        "#Execute a method that returns some important key values of Linear Regression:\n",
        "slope, intercept, r, p, std_err = stats.linregress(x, y_p)\n",
        "\n",
        "#Create a function that uses the slope and intercept values to return a new value. \n",
        "#This new value represents where on the y-axis the corresponding x value will be placed:\n",
        "def myfunc(x):\n",
        "  return slope * x + intercept\n",
        "\n",
        "#Run each value of the x array through the function. This will result in a new array with new values for the y-axis:\n",
        "mymodel2 = list(map(myfunc, x))\n",
        "\n",
        "#Draw the original scatter plot:\n",
        "pyplot.figure(figsize=(10,5))\n",
        "pyplot.scatter(x_test[:,1], y_test, color=\"blue\", label = \"Actual\")\n",
        "pyplot.scatter(x_test[:,1], y_pred, color=\"red\", label =\"Predicted\")\n",
        "\n",
        "#Draw the line of linear regression:\n",
        "pyplot.plot(x, mymodel2)\n",
        "\n",
        "pyplot.xlabel(\"Temperature\")\n",
        "pyplot.ylabel(\"GroundWater Level\")\n",
        "pyplot.legend(loc='upper right', fontsize='large')\n",
        "pyplot.show()\n",
        "\n"
      ],
      "metadata": {
        "colab": {
          "base_uri": "https://localhost:8080/",
          "height": 334
        },
        "id": "SoBJELVUz-kE",
        "outputId": "0c0342c3-dded-4d37-c73b-bbf072086251"
      },
      "execution_count": 31,
      "outputs": [
        {
          "output_type": "display_data",
          "data": {
            "text/plain": [
              "<Figure size 720x360 with 1 Axes>"
            ],
            "image/png": "[encoded data removed]"
          },
          "metadata": {
            "needs_background": "light"
          }
        }
      ]
    },
    {
      "cell_type": "code",
      "execution_count": 32,
      "metadata": {
        "id": "7iB69VXETOBn"
      },
      "outputs": [],
      "source": [
        "#x_train_df_lr = pd.DataFrame(x_train, columns = ['GWL1t','precip','Tair'])\n",
        "#X_train_df = X_train_df[0:23766]"
      ]
    },
    {
      "cell_type": "code",
      "execution_count": 33,
      "metadata": {
        "id": "aHUI-ulrTbXX"
      },
      "outputs": [],
      "source": [
        "#inverse_x_train_lr = MinMax_scaler.inverse_transform(x_train_df_lr[['GWL1t','precip','Tair']])\n",
        "#inverse_y_train = MinMax_scaler.inverse_transform(x_train_df[['Gage Height', 'Year', 'Month','y_train']])"
      ]
    },
    {
      "cell_type": "code",
      "execution_count": 34,
      "metadata": {
        "id": "ub-8edUPTpR_"
      },
      "outputs": [],
      "source": [
        "#x_test_df_lr = pd.DataFrame(x_test, columns = ['GWL1t','precip','Tair'])\n",
        "#x_test_df_lr = x_test_df_lr[0:705]"
      ]
    },
    {
      "cell_type": "code",
      "execution_count": 35,
      "metadata": {
        "id": "HJcrt1cHVCQ8"
      },
      "outputs": [],
      "source": [
        "#x_test_df_lr['predictions'] = y_pred\n",
        "#x_test_df_lr['Y_test'] = y_test"
      ]
    },
    {
      "cell_type": "code",
      "execution_count": 36,
      "metadata": {
        "id": "JscdnP8mVYOa"
      },
      "outputs": [],
      "source": [
        "#inverse_lr = MinMax_scaler.inverse_transform(x_test_df_lr[['Y_test','precip','Tair']])\n",
        "#inverse2_lr = MinMax_scaler.inverse_transform(x_test_df_lr[['predictions','precip','Tair']])\n",
        "#inverse3 = MinMax_scaler.inverse_transform(x_test_df[['Gage Height', 'Year', 'Month', 'Discharge']])"
      ]
    },
    {
      "cell_type": "code",
      "source": [
        "#from sklearn.metrics import mean_squared_error\n",
        "#from math import sqrt\n",
        "#mse = sqrt(mean_squared_error(inverse_lr[:,0], inverse2_lr[:,0]))\n",
        "#print(mse)\n",
        "#r2score = r2_score(inverse_lr[:,0], inverse2_lr[:,0])\n",
        "#print(r2score)"
      ],
      "metadata": {
        "id": "f63o9PUYVkKM"
      },
      "execution_count": 37,
      "outputs": []
    },
    {
      "cell_type": "code",
      "execution_count": 38,
      "metadata": {
        "id": "9gi345I_RhMm",
        "colab": {
          "base_uri": "https://localhost:8080/",
          "height": 73
        },
        "outputId": "3f9b456e-86b1-49d8-b3fc-f7dd9af21287"
      },
      "outputs": [
        {
          "output_type": "display_data",
          "data": {
            "text/plain": [
              "<IPython.core.display.HTML object>"
            ],
            "text/html": [
              "\n",
              "     <input type=\"file\" id=\"files-2177cf8d-a892-4f45-925d-7a18b8ee8fc2\" name=\"files[]\" multiple disabled\n",
              "        style=\"border:none\" />\n",
              "     <output id=\"result-2177cf8d-a892-4f45-925d-7a18b8ee8fc2\">\n",
              "      Upload widget is only available when the cell has been executed in the\n",
              "      current browser session. Please rerun this cell to enable.\n",
              "      </output>\n",
              "      <script>// Copyright 2017 Google LLC\n",
              "//\n",
              "// Licensed under the Apache License, Version 2.0 (the \"License\");\n",
              "// you may not use this file except in compliance with the License.\n",
              "// You may obtain a copy of the License at\n",
              "//\n",
              "//      http://www.apache.org/licenses/LICENSE-2.0\n",
              "//\n",
              "// Unless required by applicable law or agreed to in writing, software\n",
              "// distributed under the License is distributed on an \"AS IS\" BASIS,\n",
              "// WITHOUT WARRANTIES OR CONDITIONS OF ANY KIND, either express or implied.\n",
              "// See the License for the specific language governing permissions and\n",
              "// limitations under the License.\n",
              "\n",
              "/**\n",
              " * @fileoverview Helpers for google.colab Python module.\n",
              " */\n",
              "(function(scope) {\n",
              "function span(text, styleAttributes = {}) {\n",
              "  const element = document.createElement('span');\n",
              "  element.textContent = text;\n",
              "  for (const key of Object.keys(styleAttributes)) {\n",
              "    element.style[key] = styleAttributes[key];\n",
              "  }\n",
              "  return element;\n",
              "}\n",
              "\n",
              "// Max number of bytes which will be uploaded at a time.\n",
              "const MAX_PAYLOAD_SIZE = 100 * 1024;\n",
              "\n",
              "function _uploadFiles(inputId, outputId) {\n",
              "  const steps = uploadFilesStep(inputId, outputId);\n",
              "  const outputElement = document.getElementById(outputId);\n",
              "  // Cache steps on the outputElement to make it available for the next call\n",
              "  // to uploadFilesContinue from Python.\n",
              "  outputElement.steps = steps;\n",
              "\n",
              "  return _uploadFilesContinue(outputId);\n",
              "}\n",
              "\n",
              "// This is roughly an async generator (not supported in the browser yet),\n",
              "// where there are multiple asynchronous steps and the Python side is going\n",
              "// to poll for completion of each step.\n",
              "// This uses a Promise to block the python side on completion of each step,\n",
              "// then passes the result of the previous step as the input to the next step.\n",
              "function _uploadFilesContinue(outputId) {\n",
              "  const outputElement = document.getElementById(outputId);\n",
              "  const steps = outputElement.steps;\n",
              "\n",
              "  const next = steps.next(outputElement.lastPromiseValue);\n",
              "  return Promise.resolve(next.value.promise).then((value) => {\n",
              "    // Cache the last promise value to make it available to the next\n",
              "    // step of the generator.\n",
              "    outputElement.lastPromiseValue = value;\n",
              "    return next.value.response;\n",
              "  });\n",
              "}\n",
              "\n",
              "/**\n",
              " * Generator function which is called between each async step of the upload\n",
              " * process.\n",
              " * @param {string} inputId Element ID of the input file picker element.\n",
              " * @param {string} outputId Element ID of the output display.\n",
              " * @return {!Iterable<!Object>} Iterable of next steps.\n",
              " */\n",
              "function* uploadFilesStep(inputId, outputId) {\n",
              "  const inputElement = document.getElementById(inputId);\n",
              "  inputElement.disabled = false;\n",
              "\n",
              "  const outputElement = document.getElementById(outputId);\n",
              "  outputElement.innerHTML = '';\n",
              "\n",
              "  const pickedPromise = new Promise((resolve) => {\n",
              "    inputElement.addEventListener('change', (e) => {\n",
              "      resolve(e.target.files);\n",
              "    });\n",
              "  });\n",
              "\n",
              "  const cancel = document.createElement('button');\n",
              "  inputElement.parentElement.appendChild(cancel);\n",
              "  cancel.textContent = 'Cancel upload';\n",
              "  const cancelPromise = new Promise((resolve) => {\n",
              "    cancel.onclick = () => {\n",
              "      resolve(null);\n",
              "    };\n",
              "  });\n",
              "\n",
              "  // Wait for the user to pick the files.\n",
              "  const files = yield {\n",
              "    promise: Promise.race([pickedPromise, cancelPromise]),\n",
              "    response: {\n",
              "      action: 'starting',\n",
              "    }\n",
              "  };\n",
              "\n",
              "  cancel.remove();\n",
              "\n",
              "  // Disable the input element since further picks are not allowed.\n",
              "  inputElement.disabled = true;\n",
              "\n",
              "  if (!files) {\n",
              "    return {\n",
              "      response: {\n",
              "        action: 'complete',\n",
              "      }\n",
              "    };\n",
              "  }\n",
              "\n",
              "  for (const file of files) {\n",
              "    const li = document.createElement('li');\n",
              "    li.append(span(file.name, {fontWeight: 'bold'}));\n",
              "    li.append(span(\n",
              "        `(${file.type || 'n/a'}) - ${file.size} bytes, ` +\n",
              "        `last modified: ${\n",
              "            file.lastModifiedDate ? file.lastModifiedDate.toLocaleDateString() :\n",
              "                                    'n/a'} - `));\n",
              "    const percent = span('0% done');\n",
              "    li.appendChild(percent);\n",
              "\n",
              "    outputElement.appendChild(li);\n",
              "\n",
              "    const fileDataPromise = new Promise((resolve) => {\n",
              "      const reader = new FileReader();\n",
              "      reader.onload = (e) => {\n",
              "        resolve(e.target.result);\n",
              "      };\n",
              "      reader.readAsArrayBuffer(file);\n",
              "    });\n",
              "    // Wait for the data to be ready.\n",
              "    let fileData = yield {\n",
              "      promise: fileDataPromise,\n",
              "      response: {\n",
              "        action: 'continue',\n",
              "      }\n",
              "    };\n",
              "\n",
              "    // Use a chunked sending to avoid message size limits. See b/62115660.\n",
              "    let position = 0;\n",
              "    do {\n",
              "      const length = Math.min(fileData.byteLength - position, MAX_PAYLOAD_SIZE);\n",
              "      const chunk = new Uint8Array(fileData, position, length);\n",
              "      position += length;\n",
              "\n",
              "      const base64 = btoa(String.fromCharCode.apply(null, chunk));\n",
              "      yield {\n",
              "        response: {\n",
              "          action: 'append',\n",
              "          file: file.name,\n",
              "          data: base64,\n",
              "        },\n",
              "      };\n",
              "\n",
              "      let percentDone = fileData.byteLength === 0 ?\n",
              "          100 :\n",
              "          Math.round((position / fileData.byteLength) * 100);\n",
              "      percent.textContent = `${percentDone}% done`;\n",
              "\n",
              "    } while (position < fileData.byteLength);\n",
              "  }\n",
              "\n",
              "  // All done.\n",
              "  yield {\n",
              "    response: {\n",
              "      action: 'complete',\n",
              "    }\n",
              "  };\n",
              "}\n",
              "\n",
              "scope.google = scope.google || {};\n",
              "scope.google.colab = scope.google.colab || {};\n",
              "scope.google.colab._files = {\n",
              "  _uploadFiles,\n",
              "  _uploadFilesContinue,\n",
              "};\n",
              "})(self);\n",
              "</script> "
            ]
          },
          "metadata": {}
        },
        {
          "output_type": "stream",
          "name": "stdout",
          "text": [
            "Saving Haywood_County_NC.csv to Haywood_County_NC (1).csv\n"
          ]
        }
      ],
      "source": [
        "from google.colab import files\n",
        "uploaded = files.upload()"
      ]
    },
    {
      "cell_type": "code",
      "execution_count": 39,
      "metadata": {
        "id": "eeguJAktJVFm",
        "colab": {
          "base_uri": "https://localhost:8080/",
          "height": 206
        },
        "outputId": "b9c16ea7-4054-40d4-85ce-db48c1d7484f"
      },
      "outputs": [
        {
          "output_type": "execute_result",
          "data": {
            "text/plain": [
              "       Date  GWL1t      Et  precip     NETRAD      SWDown      LWDown  \\\n",
              "0  1/1/2000   6.12  1.2759  0.0216  30.972721  105.713292  270.107083   \n",
              "1  1/2/2000   6.13  1.5367  0.0000  27.586476  116.885083  270.900000   \n",
              "2  1/3/2000   6.14  1.5751  0.1808  24.587280  112.307000  280.942500   \n",
              "3  1/4/2000   6.15  1.4269  6.4268  18.449987   50.218667  324.950833   \n",
              "4  1/5/2000   6.16  2.1501  0.0282  36.005409  125.498625  218.488750   \n",
              "\n",
              "    VPD_kPa       U10        U2       Tair        PSurf  \n",
              "0  0.125359  3.936278  2.944143   6.340000  89385.74917  \n",
              "1  0.124477  6.424808  4.805442   9.241667  89436.95792  \n",
              "2  0.149297  7.565854  5.658889  11.062083  89278.24958  \n",
              "3  0.130045  8.781460  6.568103  10.159167  88678.05250  \n",
              "4  0.105620  5.061672  3.785883  -2.307500  89118.60500  "
            ],
            "text/html": [
              "\n",
              "  <div id=\"df-b63f8f7a-f09a-4202-8b0e-3ab4ebc441e8\">\n",
              "    <div class=\"colab-df-container\">\n",
              "      <div>\n",
              "<style scoped>\n",
              "    .dataframe tbody tr th:only-of-type {\n",
              "        vertical-align: middle;\n",
              "    }\n",
              "\n",
              "    .dataframe tbody tr th {\n",
              "        vertical-align: top;\n",
              "    }\n",
              "\n",
              "    .dataframe thead th {\n",
              "        text-align: right;\n",
              "    }\n",
              "</style>\n",
              "<table border=\"1\" class=\"dataframe\">\n",
              "  <thead>\n",
              "    <tr style=\"text-align: right;\">\n",
              "      <th></th>\n",
              "      <th>Date</th>\n",
              "      <th>GWL1t</th>\n",
              "      <th>Et</th>\n",
              "      <th>precip</th>\n",
              "      <th>NETRAD</th>\n",
              "      <th>SWDown</th>\n",
              "      <th>LWDown</th>\n",
              "      <th>VPD_kPa</th>\n",
              "      <th>U10</th>\n",
              "      <th>U2</th>\n",
              "      <th>Tair</th>\n",
              "      <th>PSurf</th>\n",
              "    </tr>\n",
              "  </thead>\n",
              "  <tbody>\n",
              "    <tr>\n",
              "      <th>0</th>\n",
              "      <td>1/1/2000</td>\n",
              "      <td>6.12</td>\n",
              "      <td>1.2759</td>\n",
              "      <td>0.0216</td>\n",
              "      <td>30.972721</td>\n",
              "      <td>105.713292</td>\n",
              "      <td>270.107083</td>\n",
              "      <td>0.125359</td>\n",
              "      <td>3.936278</td>\n",
              "      <td>2.944143</td>\n",
              "      <td>6.340000</td>\n",
              "      <td>89385.74917</td>\n",
              "    </tr>\n",
              "    <tr>\n",
              "      <th>1</th>\n",
              "      <td>1/2/2000</td>\n",
              "      <td>6.13</td>\n",
              "      <td>1.5367</td>\n",
              "      <td>0.0000</td>\n",
              "      <td>27.586476</td>\n",
              "      <td>116.885083</td>\n",
              "      <td>270.900000</td>\n",
              "      <td>0.124477</td>\n",
              "      <td>6.424808</td>\n",
              "      <td>4.805442</td>\n",
              "      <td>9.241667</td>\n",
              "      <td>89436.95792</td>\n",
              "    </tr>\n",
              "    <tr>\n",
              "      <th>2</th>\n",
              "      <td>1/3/2000</td>\n",
              "      <td>6.14</td>\n",
              "      <td>1.5751</td>\n",
              "      <td>0.1808</td>\n",
              "      <td>24.587280</td>\n",
              "      <td>112.307000</td>\n",
              "      <td>280.942500</td>\n",
              "      <td>0.149297</td>\n",
              "      <td>7.565854</td>\n",
              "      <td>5.658889</td>\n",
              "      <td>11.062083</td>\n",
              "      <td>89278.24958</td>\n",
              "    </tr>\n",
              "    <tr>\n",
              "      <th>3</th>\n",
              "      <td>1/4/2000</td>\n",
              "      <td>6.15</td>\n",
              "      <td>1.4269</td>\n",
              "      <td>6.4268</td>\n",
              "      <td>18.449987</td>\n",
              "      <td>50.218667</td>\n",
              "      <td>324.950833</td>\n",
              "      <td>0.130045</td>\n",
              "      <td>8.781460</td>\n",
              "      <td>6.568103</td>\n",
              "      <td>10.159167</td>\n",
              "      <td>88678.05250</td>\n",
              "    </tr>\n",
              "    <tr>\n",
              "      <th>4</th>\n",
              "      <td>1/5/2000</td>\n",
              "      <td>6.16</td>\n",
              "      <td>2.1501</td>\n",
              "      <td>0.0282</td>\n",
              "      <td>36.005409</td>\n",
              "      <td>125.498625</td>\n",
              "      <td>218.488750</td>\n",
              "      <td>0.105620</td>\n",
              "      <td>5.061672</td>\n",
              "      <td>3.785883</td>\n",
              "      <td>-2.307500</td>\n",
              "      <td>89118.60500</td>\n",
              "    </tr>\n",
              "  </tbody>\n",
              "</table>\n",
              "</div>\n",
              "      <button class=\"colab-df-convert\" onclick=\"convertToInteractive('df-b63f8f7a-f09a-4202-8b0e-3ab4ebc441e8')\"\n",
              "              title=\"Convert this dataframe to an interactive table.\"\n",
              "              style=\"display:none;\">\n",
              "        \n",
              "  <svg xmlns=\"http://www.w3.org/2000/svg\" height=\"24px\"viewBox=\"0 0 24 24\"\n",
              "       width=\"24px\">\n",
              "    <path d=\"M0 0h24v24H0V0z\" fill=\"none\"/>\n",
              "    <path d=\"M18.56 5.44l.94 2.06.94-2.06 2.06-.94-2.06-.94-.94-2.06-.94 2.06-2.06.94zm-11 1L8.5 8.5l.94-2.06 2.06-.94-2.06-.94L8.5 2.5l-.94 2.06-2.06.94zm10 10l.94 2.06.94-2.06 2.06-.94-2.06-.94-.94-2.06-.94 2.06-2.06.94z\"/><path d=\"M17.41 7.96l-1.37-1.37c-.4-.4-.92-.59-1.43-.59-.52 0-1.04.2-1.43.59L10.3 9.45l-7.72 7.72c-.78.78-.78 2.05 0 2.83L4 21.41c.39.39.9.59 1.41.59.51 0 1.02-.2 1.41-.59l7.78-7.78 2.81-2.81c.8-.78.8-2.07 0-2.86zM5.41 20L4 18.59l7.72-7.72 1.47 1.35L5.41 20z\"/>\n",
              "  </svg>\n",
              "      </button>\n",
              "      \n",
              "  <style>\n",
              "    .colab-df-container {\n",
              "      display:flex;\n",
              "      flex-wrap:wrap;\n",
              "      gap: 12px;\n",
              "    }\n",
              "\n",
              "    .colab-df-convert {\n",
              "      background-color: #E8F0FE;\n",
              "      border: none;\n",
              "      border-radius: 50%;\n",
              "      cursor: pointer;\n",
              "      display: none;\n",
              "      fill: #1967D2;\n",
              "      height: 32px;\n",
              "      padding: 0 0 0 0;\n",
              "      width: 32px;\n",
              "    }\n",
              "\n",
              "    .colab-df-convert:hover {\n",
              "      background-color: #E2EBFA;\n",
              "      box-shadow: 0px 1px 2px rgba(60, 64, 67, 0.3), 0px 1px 3px 1px rgba(60, 64, 67, 0.15);\n",
              "      fill: #174EA6;\n",
              "    }\n",
              "\n",
              "    [theme=dark] .colab-df-convert {\n",
              "      background-color: #3B4455;\n",
              "      fill: #D2E3FC;\n",
              "    }\n",
              "\n",
              "    [theme=dark] .colab-df-convert:hover {\n",
              "      background-color: #434B5C;\n",
              "      box-shadow: 0px 1px 3px 1px rgba(0, 0, 0, 0.15);\n",
              "      filter: drop-shadow(0px 1px 2px rgba(0, 0, 0, 0.3));\n",
              "      fill: #FFFFFF;\n",
              "    }\n",
              "  </style>\n",
              "\n",
              "      <script>\n",
              "        const buttonEl =\n",
              "          document.querySelector('#df-b63f8f7a-f09a-4202-8b0e-3ab4ebc441e8 button.colab-df-convert');\n",
              "        buttonEl.style.display =\n",
              "          google.colab.kernel.accessAllowed ? 'block' : 'none';\n",
              "\n",
              "        async function convertToInteractive(key) {\n",
              "          const element = document.querySelector('#df-b63f8f7a-f09a-4202-8b0e-3ab4ebc441e8');\n",
              "          const dataTable =\n",
              "            await google.colab.kernel.invokeFunction('convertToInteractive',\n",
              "                                                     [key], {});\n",
              "          if (!dataTable) return;\n",
              "\n",
              "          const docLinkHtml = 'Like what you see? Visit the ' +\n",
              "            '<a target=\"_blank\" href=https://colab.research.google.com/notebooks/data_table.ipynb>data table notebook</a>'\n",
              "            + ' to learn more about interactive tables.';\n",
              "          element.innerHTML = '';\n",
              "          dataTable['output_type'] = 'display_data';\n",
              "          await google.colab.output.renderOutput(dataTable, element);\n",
              "          const docLink = document.createElement('div');\n",
              "          docLink.innerHTML = docLinkHtml;\n",
              "          element.appendChild(docLink);\n",
              "        }\n",
              "      </script>\n",
              "    </div>\n",
              "  </div>\n",
              "  "
            ]
          },
          "metadata": {},
          "execution_count": 39
        }
      ],
      "source": [
        "df = pd.read_csv('Haywood_County_NC.csv', parse_dates=True)\n",
        "df.head()"
      ]
    },
    {
      "cell_type": "code",
      "source": [
        "df.drop([\"Et\",\"NETRAD\",\"SWDown\",\"LWDown\",\"VPD_kPa\",\"U10\",\"U2\",\"PSurf\"],axis = 1, inplace=True)"
      ],
      "metadata": {
        "id": "5AwIeUCbJiDE"
      },
      "execution_count": 40,
      "outputs": []
    },
    {
      "cell_type": "code",
      "execution_count": 41,
      "metadata": {
        "id": "JtvTSY9DJq3D",
        "colab": {
          "base_uri": "https://localhost:8080/",
          "height": 206
        },
        "outputId": "a1209b40-73e5-42a6-e3d0-29bbe6f17274"
      },
      "outputs": [
        {
          "output_type": "execute_result",
          "data": {
            "text/plain": [
              "       Date  GWL1t  precip       Tair  timestamp  Year  Month\n",
              "0  1/1/2000   6.12  0.0216   6.340000 2000-01-01  2000      1\n",
              "1  1/2/2000   6.13  0.0000   9.241667 2000-01-02  2000      1\n",
              "2  1/3/2000   6.14  0.1808  11.062083 2000-01-03  2000      1\n",
              "3  1/4/2000   6.15  6.4268  10.159167 2000-01-04  2000      1\n",
              "4  1/5/2000   6.16  0.0282  -2.307500 2000-01-05  2000      1"
            ],
            "text/html": [
              "\n",
              "  <div id=\"df-b6ac5f90-a4c9-4d5b-9614-ef87e45061d1\">\n",
              "    <div class=\"colab-df-container\">\n",
              "      <div>\n",
              "<style scoped>\n",
              "    .dataframe tbody tr th:only-of-type {\n",
              "        vertical-align: middle;\n",
              "    }\n",
              "\n",
              "    .dataframe tbody tr th {\n",
              "        vertical-align: top;\n",
              "    }\n",
              "\n",
              "    .dataframe thead th {\n",
              "        text-align: right;\n",
              "    }\n",
              "</style>\n",
              "<table border=\"1\" class=\"dataframe\">\n",
              "  <thead>\n",
              "    <tr style=\"text-align: right;\">\n",
              "      <th></th>\n",
              "      <th>Date</th>\n",
              "      <th>GWL1t</th>\n",
              "      <th>precip</th>\n",
              "      <th>Tair</th>\n",
              "      <th>timestamp</th>\n",
              "      <th>Year</th>\n",
              "      <th>Month</th>\n",
              "    </tr>\n",
              "  </thead>\n",
              "  <tbody>\n",
              "    <tr>\n",
              "      <th>0</th>\n",
              "      <td>1/1/2000</td>\n",
              "      <td>6.12</td>\n",
              "      <td>0.0216</td>\n",
              "      <td>6.340000</td>\n",
              "      <td>2000-01-01</td>\n",
              "      <td>2000</td>\n",
              "      <td>1</td>\n",
              "    </tr>\n",
              "    <tr>\n",
              "      <th>1</th>\n",
              "      <td>1/2/2000</td>\n",
              "      <td>6.13</td>\n",
              "      <td>0.0000</td>\n",
              "      <td>9.241667</td>\n",
              "      <td>2000-01-02</td>\n",
              "      <td>2000</td>\n",
              "      <td>1</td>\n",
              "    </tr>\n",
              "    <tr>\n",
              "      <th>2</th>\n",
              "      <td>1/3/2000</td>\n",
              "      <td>6.14</td>\n",
              "      <td>0.1808</td>\n",
              "      <td>11.062083</td>\n",
              "      <td>2000-01-03</td>\n",
              "      <td>2000</td>\n",
              "      <td>1</td>\n",
              "    </tr>\n",
              "    <tr>\n",
              "      <th>3</th>\n",
              "      <td>1/4/2000</td>\n",
              "      <td>6.15</td>\n",
              "      <td>6.4268</td>\n",
              "      <td>10.159167</td>\n",
              "      <td>2000-01-04</td>\n",
              "      <td>2000</td>\n",
              "      <td>1</td>\n",
              "    </tr>\n",
              "    <tr>\n",
              "      <th>4</th>\n",
              "      <td>1/5/2000</td>\n",
              "      <td>6.16</td>\n",
              "      <td>0.0282</td>\n",
              "      <td>-2.307500</td>\n",
              "      <td>2000-01-05</td>\n",
              "      <td>2000</td>\n",
              "      <td>1</td>\n",
              "    </tr>\n",
              "  </tbody>\n",
              "</table>\n",
              "</div>\n",
              "      <button class=\"colab-df-convert\" onclick=\"convertToInteractive('df-b6ac5f90-a4c9-4d5b-9614-ef87e45061d1')\"\n",
              "              title=\"Convert this dataframe to an interactive table.\"\n",
              "              style=\"display:none;\">\n",
              "        \n",
              "  <svg xmlns=\"http://www.w3.org/2000/svg\" height=\"24px\"viewBox=\"0 0 24 24\"\n",
              "       width=\"24px\">\n",
              "    <path d=\"M0 0h24v24H0V0z\" fill=\"none\"/>\n",
              "    <path d=\"M18.56 5.44l.94 2.06.94-2.06 2.06-.94-2.06-.94-.94-2.06-.94 2.06-2.06.94zm-11 1L8.5 8.5l.94-2.06 2.06-.94-2.06-.94L8.5 2.5l-.94 2.06-2.06.94zm10 10l.94 2.06.94-2.06 2.06-.94-2.06-.94-.94-2.06-.94 2.06-2.06.94z\"/><path d=\"M17.41 7.96l-1.37-1.37c-.4-.4-.92-.59-1.43-.59-.52 0-1.04.2-1.43.59L10.3 9.45l-7.72 7.72c-.78.78-.78 2.05 0 2.83L4 21.41c.39.39.9.59 1.41.59.51 0 1.02-.2 1.41-.59l7.78-7.78 2.81-2.81c.8-.78.8-2.07 0-2.86zM5.41 20L4 18.59l7.72-7.72 1.47 1.35L5.41 20z\"/>\n",
              "  </svg>\n",
              "      </button>\n",
              "      \n",
              "  <style>\n",
              "    .colab-df-container {\n",
              "      display:flex;\n",
              "      flex-wrap:wrap;\n",
              "      gap: 12px;\n",
              "    }\n",
              "\n",
              "    .colab-df-convert {\n",
              "      background-color: #E8F0FE;\n",
              "      border: none;\n",
              "      border-radius: 50%;\n",
              "      cursor: pointer;\n",
              "      display: none;\n",
              "      fill: #1967D2;\n",
              "      height: 32px;\n",
              "      padding: 0 0 0 0;\n",
              "      width: 32px;\n",
              "    }\n",
              "\n",
              "    .colab-df-convert:hover {\n",
              "      background-color: #E2EBFA;\n",
              "      box-shadow: 0px 1px 2px rgba(60, 64, 67, 0.3), 0px 1px 3px 1px rgba(60, 64, 67, 0.15);\n",
              "      fill: #174EA6;\n",
              "    }\n",
              "\n",
              "    [theme=dark] .colab-df-convert {\n",
              "      background-color: #3B4455;\n",
              "      fill: #D2E3FC;\n",
              "    }\n",
              "\n",
              "    [theme=dark] .colab-df-convert:hover {\n",
              "      background-color: #434B5C;\n",
              "      box-shadow: 0px 1px 3px 1px rgba(0, 0, 0, 0.15);\n",
              "      filter: drop-shadow(0px 1px 2px rgba(0, 0, 0, 0.3));\n",
              "      fill: #FFFFFF;\n",
              "    }\n",
              "  </style>\n",
              "\n",
              "      <script>\n",
              "        const buttonEl =\n",
              "          document.querySelector('#df-b6ac5f90-a4c9-4d5b-9614-ef87e45061d1 button.colab-df-convert');\n",
              "        buttonEl.style.display =\n",
              "          google.colab.kernel.accessAllowed ? 'block' : 'none';\n",
              "\n",
              "        async function convertToInteractive(key) {\n",
              "          const element = document.querySelector('#df-b6ac5f90-a4c9-4d5b-9614-ef87e45061d1');\n",
              "          const dataTable =\n",
              "            await google.colab.kernel.invokeFunction('convertToInteractive',\n",
              "                                                     [key], {});\n",
              "          if (!dataTable) return;\n",
              "\n",
              "          const docLinkHtml = 'Like what you see? Visit the ' +\n",
              "            '<a target=\"_blank\" href=https://colab.research.google.com/notebooks/data_table.ipynb>data table notebook</a>'\n",
              "            + ' to learn more about interactive tables.';\n",
              "          element.innerHTML = '';\n",
              "          dataTable['output_type'] = 'display_data';\n",
              "          await google.colab.output.renderOutput(dataTable, element);\n",
              "          const docLink = document.createElement('div');\n",
              "          docLink.innerHTML = docLinkHtml;\n",
              "          element.appendChild(docLink);\n",
              "        }\n",
              "      </script>\n",
              "    </div>\n",
              "  </div>\n",
              "  "
            ]
          },
          "metadata": {},
          "execution_count": 41
        }
      ],
      "source": [
        "df['timestamp'] = pd.to_datetime(df['Date'])\n",
        "df['Year'] = df.timestamp.dt.year\n",
        "df['Month'] = df.timestamp.dt.month\n",
        "df.head()"
      ]
    },
    {
      "cell_type": "code",
      "source": [
        "df=df.dropna(axis=0,how='any')"
      ],
      "metadata": {
        "id": "fSbwqHIIK4bV"
      },
      "execution_count": 42,
      "outputs": []
    },
    {
      "cell_type": "code",
      "execution_count": 43,
      "metadata": {
        "id": "zsD2ARoeHSDL"
      },
      "outputs": [],
      "source": [
        "MinMax_scaler = preprocessing.MinMaxScaler()\n",
        "scaled_data = MinMax_scaler.fit_transform(df[['GWL1t','precip',\"Tair\",\"Year\",\"Month\"]])"
      ]
    },
    {
      "cell_type": "code",
      "execution_count": 44,
      "metadata": {
        "id": "fo0NRfXwR-_Y",
        "colab": {
          "base_uri": "https://localhost:8080/",
          "height": 206
        },
        "outputId": "5801dd5e-ad6f-4099-f4c9-74d6b204e8c1"
      },
      "outputs": [
        {
          "output_type": "execute_result",
          "data": {
            "text/plain": [
              "       Date     GWL1t    precip      Tair  timestamp  Year  Month\n",
              "0  1/1/2000  0.870968  0.000172  0.570390 2000-01-01   0.0    0.0\n",
              "1  1/2/2000  0.872504  0.000000  0.639262 2000-01-02   0.0    0.0\n",
              "2  1/3/2000  0.874040  0.001440  0.682470 2000-01-03   0.0    0.0\n",
              "3  1/4/2000  0.875576  0.051183  0.661039 2000-01-04   0.0    0.0\n",
              "4  1/5/2000  0.877112  0.000225  0.365139 2000-01-05   0.0    0.0"
            ],
            "text/html": [
              "\n",
              "  <div id=\"df-7839a5f8-3a4c-4ee7-8988-906591dcabe7\">\n",
              "    <div class=\"colab-df-container\">\n",
              "      <div>\n",
              "<style scoped>\n",
              "    .dataframe tbody tr th:only-of-type {\n",
              "        vertical-align: middle;\n",
              "    }\n",
              "\n",
              "    .dataframe tbody tr th {\n",
              "        vertical-align: top;\n",
              "    }\n",
              "\n",
              "    .dataframe thead th {\n",
              "        text-align: right;\n",
              "    }\n",
              "</style>\n",
              "<table border=\"1\" class=\"dataframe\">\n",
              "  <thead>\n",
              "    <tr style=\"text-align: right;\">\n",
              "      <th></th>\n",
              "      <th>Date</th>\n",
              "      <th>GWL1t</th>\n",
              "      <th>precip</th>\n",
              "      <th>Tair</th>\n",
              "      <th>timestamp</th>\n",
              "      <th>Year</th>\n",
              "      <th>Month</th>\n",
              "    </tr>\n",
              "  </thead>\n",
              "  <tbody>\n",
              "    <tr>\n",
              "      <th>0</th>\n",
              "      <td>1/1/2000</td>\n",
              "      <td>0.870968</td>\n",
              "      <td>0.000172</td>\n",
              "      <td>0.570390</td>\n",
              "      <td>2000-01-01</td>\n",
              "      <td>0.0</td>\n",
              "      <td>0.0</td>\n",
              "    </tr>\n",
              "    <tr>\n",
              "      <th>1</th>\n",
              "      <td>1/2/2000</td>\n",
              "      <td>0.872504</td>\n",
              "      <td>0.000000</td>\n",
              "      <td>0.639262</td>\n",
              "      <td>2000-01-02</td>\n",
              "      <td>0.0</td>\n",
              "      <td>0.0</td>\n",
              "    </tr>\n",
              "    <tr>\n",
              "      <th>2</th>\n",
              "      <td>1/3/2000</td>\n",
              "      <td>0.874040</td>\n",
              "      <td>0.001440</td>\n",
              "      <td>0.682470</td>\n",
              "      <td>2000-01-03</td>\n",
              "      <td>0.0</td>\n",
              "      <td>0.0</td>\n",
              "    </tr>\n",
              "    <tr>\n",
              "      <th>3</th>\n",
              "      <td>1/4/2000</td>\n",
              "      <td>0.875576</td>\n",
              "      <td>0.051183</td>\n",
              "      <td>0.661039</td>\n",
              "      <td>2000-01-04</td>\n",
              "      <td>0.0</td>\n",
              "      <td>0.0</td>\n",
              "    </tr>\n",
              "    <tr>\n",
              "      <th>4</th>\n",
              "      <td>1/5/2000</td>\n",
              "      <td>0.877112</td>\n",
              "      <td>0.000225</td>\n",
              "      <td>0.365139</td>\n",
              "      <td>2000-01-05</td>\n",
              "      <td>0.0</td>\n",
              "      <td>0.0</td>\n",
              "    </tr>\n",
              "  </tbody>\n",
              "</table>\n",
              "</div>\n",
              "      <button class=\"colab-df-convert\" onclick=\"convertToInteractive('df-7839a5f8-3a4c-4ee7-8988-906591dcabe7')\"\n",
              "              title=\"Convert this dataframe to an interactive table.\"\n",
              "              style=\"display:none;\">\n",
              "        \n",
              "  <svg xmlns=\"http://www.w3.org/2000/svg\" height=\"24px\"viewBox=\"0 0 24 24\"\n",
              "       width=\"24px\">\n",
              "    <path d=\"M0 0h24v24H0V0z\" fill=\"none\"/>\n",
              "    <path d=\"M18.56 5.44l.94 2.06.94-2.06 2.06-.94-2.06-.94-.94-2.06-.94 2.06-2.06.94zm-11 1L8.5 8.5l.94-2.06 2.06-.94-2.06-.94L8.5 2.5l-.94 2.06-2.06.94zm10 10l.94 2.06.94-2.06 2.06-.94-2.06-.94-.94-2.06-.94 2.06-2.06.94z\"/><path d=\"M17.41 7.96l-1.37-1.37c-.4-.4-.92-.59-1.43-.59-.52 0-1.04.2-1.43.59L10.3 9.45l-7.72 7.72c-.78.78-.78 2.05 0 2.83L4 21.41c.39.39.9.59 1.41.59.51 0 1.02-.2 1.41-.59l7.78-7.78 2.81-2.81c.8-.78.8-2.07 0-2.86zM5.41 20L4 18.59l7.72-7.72 1.47 1.35L5.41 20z\"/>\n",
              "  </svg>\n",
              "      </button>\n",
              "      \n",
              "  <style>\n",
              "    .colab-df-container {\n",
              "      display:flex;\n",
              "      flex-wrap:wrap;\n",
              "      gap: 12px;\n",
              "    }\n",
              "\n",
              "    .colab-df-convert {\n",
              "      background-color: #E8F0FE;\n",
              "      border: none;\n",
              "      border-radius: 50%;\n",
              "      cursor: pointer;\n",
              "      display: none;\n",
              "      fill: #1967D2;\n",
              "      height: 32px;\n",
              "      padding: 0 0 0 0;\n",
              "      width: 32px;\n",
              "    }\n",
              "\n",
              "    .colab-df-convert:hover {\n",
              "      background-color: #E2EBFA;\n",
              "      box-shadow: 0px 1px 2px rgba(60, 64, 67, 0.3), 0px 1px 3px 1px rgba(60, 64, 67, 0.15);\n",
              "      fill: #174EA6;\n",
              "    }\n",
              "\n",
              "    [theme=dark] .colab-df-convert {\n",
              "      background-color: #3B4455;\n",
              "      fill: #D2E3FC;\n",
              "    }\n",
              "\n",
              "    [theme=dark] .colab-df-convert:hover {\n",
              "      background-color: #434B5C;\n",
              "      box-shadow: 0px 1px 3px 1px rgba(0, 0, 0, 0.15);\n",
              "      filter: drop-shadow(0px 1px 2px rgba(0, 0, 0, 0.3));\n",
              "      fill: #FFFFFF;\n",
              "    }\n",
              "  </style>\n",
              "\n",
              "      <script>\n",
              "        const buttonEl =\n",
              "          document.querySelector('#df-7839a5f8-3a4c-4ee7-8988-906591dcabe7 button.colab-df-convert');\n",
              "        buttonEl.style.display =\n",
              "          google.colab.kernel.accessAllowed ? 'block' : 'none';\n",
              "\n",
              "        async function convertToInteractive(key) {\n",
              "          const element = document.querySelector('#df-7839a5f8-3a4c-4ee7-8988-906591dcabe7');\n",
              "          const dataTable =\n",
              "            await google.colab.kernel.invokeFunction('convertToInteractive',\n",
              "                                                     [key], {});\n",
              "          if (!dataTable) return;\n",
              "\n",
              "          const docLinkHtml = 'Like what you see? Visit the ' +\n",
              "            '<a target=\"_blank\" href=https://colab.research.google.com/notebooks/data_table.ipynb>data table notebook</a>'\n",
              "            + ' to learn more about interactive tables.';\n",
              "          element.innerHTML = '';\n",
              "          dataTable['output_type'] = 'display_data';\n",
              "          await google.colab.output.renderOutput(dataTable, element);\n",
              "          const docLink = document.createElement('div');\n",
              "          docLink.innerHTML = docLinkHtml;\n",
              "          element.appendChild(docLink);\n",
              "        }\n",
              "      </script>\n",
              "    </div>\n",
              "  </div>\n",
              "  "
            ]
          },
          "metadata": {},
          "execution_count": 44
        }
      ],
      "source": [
        "scaled_df = df.copy()\n",
        "scaled_df['GWL1t'] = scaled_data[:, 0]\n",
        "scaled_df['precip'] = scaled_data[:, 1]\n",
        "scaled_df['Tair'] = scaled_data[:, 2]\n",
        "scaled_df['Year'] = scaled_data[:, 3]\n",
        "scaled_df['Month'] = scaled_data[:, 4]\n",
        "scaled_df.head()"
      ]
    },
    {
      "cell_type": "code",
      "source": [
        "testing.index"
      ],
      "metadata": {
        "colab": {
          "base_uri": "https://localhost:8080/"
        },
        "id": "nVPUu9Ia-zjq",
        "outputId": "dd1f3786-c6e8-4652-c8ba-b632c89b529d"
      },
      "execution_count": 45,
      "outputs": [
        {
          "output_type": "execute_result",
          "data": {
            "text/plain": [
              "Int64Index([6575, 6576, 6577, 6578, 6579, 6580, 6581, 6582, 6583, 6584,\n",
              "            ...\n",
              "            7294, 7295, 7296, 7297, 7298, 7299, 7300, 7301, 7302, 7303],\n",
              "           dtype='int64', length=729)"
            ]
          },
          "metadata": {},
          "execution_count": 45
        }
      ]
    },
    {
      "cell_type": "code",
      "execution_count": 46,
      "metadata": {
        "id": "jhYLkel0LFOF",
        "colab": {
          "base_uri": "https://localhost:8080/"
        },
        "outputId": "8cb99db2-7beb-4bf4-fc96-5b95149c3208"
      },
      "outputs": [
        {
          "output_type": "stream",
          "name": "stdout",
          "text": [
            "size of the dataset: 7281\n",
            "Training examples: 6552\n",
            "size of the test dataset: 729\n"
          ]
        }
      ],
      "source": [
        "#training_size = int(len(scaled_df) * 0.9)\n",
        "#training, testing = scaled_df[0:training_size], scaled_df[training_size:len(df)]\n",
        "#print('size of the dataset: %d' % (len(scaled_df)))\n",
        "#print('Training examples: %d' % (len(training)))\n",
        "#print('size of the test dataset: %d' % (len(testing)))\n",
        "training_size = int(len(scaled_df) * 0.9)\n",
        "training, testing = scaled_df[0:training_size], scaled_df[training_size:len(df)]\n",
        "print('size of the dataset: %d' % (len(df)))\n",
        "print('Training examples: %d' % (len(training)))\n",
        "print('size of the test dataset: %d' % (len(testing)))"
      ]
    },
    {
      "cell_type": "code",
      "execution_count": 47,
      "metadata": {
        "id": "9Z8L0aqpHxSq"
      },
      "outputs": [],
      "source": [
        "def create_sequence(dataset, length):\n",
        "    data_sequences = []\n",
        "    for index in range(len(dataset) - length):\n",
        "        data_sequences.append(dataset[index: index + length])\n",
        "    return np.asanyarray(data_sequences)"
      ]
    },
    {
      "cell_type": "code",
      "execution_count": 48,
      "metadata": {
        "id": "aTZ93X7SHnkf"
      },
      "outputs": [],
      "source": [
        "X_train = training[['GWL1t', 'precip','Tair','Year','Month']].to_numpy()\n",
        "Y_train = scaled_df[time_step:testing.index[0]]['GWL1t'].to_numpy()\n",
        "#x_train = training[['precip','Tair']].to_numpy()\n",
        "#y_train = training['GWL1t'].to_numpy()"
      ]
    },
    {
      "cell_type": "code",
      "execution_count": 49,
      "metadata": {
        "id": "cFADUsclHspI"
      },
      "outputs": [],
      "source": [
        "X_test = testing[0:-time_step][['GWL1t','precip','Tair','Year','Month']].to_numpy()\n",
        "Y_test = scaled_df[testing.index[0] + time_step:]['GWL1t'].to_numpy()\n",
        "#x_test = testing[['precip','Tair']].to_numpy()\n",
        "#y_test = testing['GWL1t'].to_numpy()"
      ]
    },
    {
      "cell_type": "code",
      "execution_count": 50,
      "metadata": {
        "id": "YTjnNwZpH6tG"
      },
      "outputs": [],
      "source": [
        "XX_train = create_sequence(X_train, 48)\n",
        "XX_test = create_sequence(X_test, 48)\n",
        "Y_train = Y_train[-XX_train.shape[0]:]\n",
        "Y_test = Y_test[-XX_test.shape[0]:]"
      ]
    },
    {
      "cell_type": "code",
      "source": [
        "XX_test.shape"
      ],
      "metadata": {
        "colab": {
          "base_uri": "https://localhost:8080/"
        },
        "id": "tRnZyHzlU6aE",
        "outputId": "a0639f36-ac24-45c6-b8bb-99522622d239"
      },
      "execution_count": 51,
      "outputs": [
        {
          "output_type": "execute_result",
          "data": {
            "text/plain": [
              "(680, 48, 5)"
            ]
          },
          "metadata": {},
          "execution_count": 51
        }
      ]
    },
    {
      "cell_type": "code",
      "source": [
        "Y_test.shape"
      ],
      "metadata": {
        "colab": {
          "base_uri": "https://localhost:8080/"
        },
        "id": "f0FjA3n5U0Kj",
        "outputId": "e946674f-ab18-4400-8980-dac8e8e39e43"
      },
      "execution_count": 52,
      "outputs": [
        {
          "output_type": "execute_result",
          "data": {
            "text/plain": [
              "(680,)"
            ]
          },
          "metadata": {},
          "execution_count": 52
        }
      ]
    },
    {
      "cell_type": "code",
      "execution_count": 53,
      "metadata": {
        "id": "d8D601gWSMcP"
      },
      "outputs": [],
      "source": [
        "#print(\"XX_train shape = {}, and YY_train shape={}\".format(XX_train.shape, YY_train.shape))"
      ]
    },
    {
      "cell_type": "code",
      "source": [
        "XX_train.shape"
      ],
      "metadata": {
        "id": "qSzIKIT0AUTI",
        "colab": {
          "base_uri": "https://localhost:8080/"
        },
        "outputId": "c99bbc32-ea2e-4e70-a778-7688e99196ed"
      },
      "execution_count": 54,
      "outputs": [
        {
          "output_type": "execute_result",
          "data": {
            "text/plain": [
              "(6504, 48, 5)"
            ]
          },
          "metadata": {},
          "execution_count": 54
        }
      ]
    },
    {
      "cell_type": "code",
      "source": [
        "XX_train.shape[-1]"
      ],
      "metadata": {
        "id": "gbdH3PjjAsbZ",
        "colab": {
          "base_uri": "https://localhost:8080/"
        },
        "outputId": "44fb96b7-827d-40e1-ba4e-2172e7a14317"
      },
      "execution_count": 55,
      "outputs": [
        {
          "output_type": "execute_result",
          "data": {
            "text/plain": [
              "5"
            ]
          },
          "metadata": {},
          "execution_count": 55
        }
      ]
    },
    {
      "cell_type": "markdown",
      "source": [
        "### **Decision Tree Regression**"
      ],
      "metadata": {
        "id": "4GgJWySOSImT"
      }
    },
    {
      "cell_type": "code",
      "execution_count": 56,
      "metadata": {
        "id": "r6cbOPDfRLyj"
      },
      "outputs": [],
      "source": [
        "import tensorflow as tf\n",
        "from tensorflow import keras"
      ]
    },
    {
      "cell_type": "code",
      "source": [
        "from sklearn.tree import DecisionTreeRegressor"
      ],
      "metadata": {
        "id": "H3g47B6GB8El"
      },
      "execution_count": 57,
      "outputs": []
    },
    {
      "cell_type": "code",
      "source": [
        "XX_train.shape"
      ],
      "metadata": {
        "id": "A-3Z1SX8GHvB",
        "colab": {
          "base_uri": "https://localhost:8080/"
        },
        "outputId": "adb1e341-3d99-4b67-e743-6d7d2feee573"
      },
      "execution_count": 58,
      "outputs": [
        {
          "output_type": "execute_result",
          "data": {
            "text/plain": [
              "(6504, 48, 5)"
            ]
          },
          "metadata": {},
          "execution_count": 58
        }
      ]
    },
    {
      "cell_type": "code",
      "source": [
        "XX_train_reshape= XX_train.reshape((6504,48*5))"
      ],
      "metadata": {
        "id": "grdK-6mBGwE9"
      },
      "execution_count": 59,
      "outputs": []
    },
    {
      "cell_type": "code",
      "source": [
        "Y_train.shape"
      ],
      "metadata": {
        "id": "7_p5rC7AGN3Y",
        "colab": {
          "base_uri": "https://localhost:8080/"
        },
        "outputId": "985d4e04-3d9a-49e3-8a01-da6b0b40ac14"
      },
      "execution_count": 60,
      "outputs": [
        {
          "output_type": "execute_result",
          "data": {
            "text/plain": [
              "(6504,)"
            ]
          },
          "metadata": {},
          "execution_count": 60
        }
      ]
    },
    {
      "cell_type": "code",
      "source": [
        "Y_test.shape"
      ],
      "metadata": {
        "colab": {
          "base_uri": "https://localhost:8080/"
        },
        "id": "lK9KAoWGTXLd",
        "outputId": "50e63b81-5eda-4927-e20b-c2ad006fba7b"
      },
      "execution_count": 61,
      "outputs": [
        {
          "output_type": "execute_result",
          "data": {
            "text/plain": [
              "(680,)"
            ]
          },
          "metadata": {},
          "execution_count": 61
        }
      ]
    },
    {
      "cell_type": "code",
      "source": [
        "XX_test.shape"
      ],
      "metadata": {
        "id": "ezPPsIScGR6R",
        "colab": {
          "base_uri": "https://localhost:8080/"
        },
        "outputId": "619faef0-9fed-4d51-be9f-d418deb96df6"
      },
      "execution_count": 62,
      "outputs": [
        {
          "output_type": "execute_result",
          "data": {
            "text/plain": [
              "(680, 48, 5)"
            ]
          },
          "metadata": {},
          "execution_count": 62
        }
      ]
    },
    {
      "cell_type": "code",
      "source": [
        "XX_test_reshape= XX_test.reshape((680,48*5))"
      ],
      "metadata": {
        "id": "NtdlzmplHXyc"
      },
      "execution_count": 63,
      "outputs": []
    },
    {
      "cell_type": "code",
      "source": [
        "tree = DecisionTreeRegressor()\n",
        "tree.fit(XX_train_reshape, Y_train)\n",
        "\n",
        "\n",
        "y_predictions = tree.predict(XX_test_reshape)"
      ],
      "metadata": {
        "id": "3qbJTezuCZQV"
      },
      "execution_count": 64,
      "outputs": []
    },
    {
      "cell_type": "code",
      "source": [
        "fig, axs = pyplot.subplots()\n",
        "fig.set_figheight(4)\n",
        "fig.set_figwidth(15)\n",
        "axs.plot(y_predictions, color='red', label='Predicted')\n",
        "axs.plot(Y_test, color='blue', label='Actual')\n",
        "pyplot.xlabel('Timestamp')\n",
        "pyplot.ylabel('Groundwater Level')\n",
        "pyplot.legend(loc='upper left')\n",
        "pyplot.show()"
      ],
      "metadata": {
        "colab": {
          "base_uri": "https://localhost:8080/",
          "height": 279
        },
        "id": "0ucolvGkMg_9",
        "outputId": "24dc2621-8b18-4b63-89a8-89631432301e"
      },
      "execution_count": 65,
      "outputs": [
        {
          "output_type": "display_data",
          "data": {
            "text/plain": [
              "<Figure size 1080x288 with 1 Axes>"
            ],
            "image/png": "[encoded data removed]"
          },
          "metadata": {
            "needs_background": "light"
          }
        }
      ]
    },
    {
      "cell_type": "code",
      "source": [
        "#The coefficients\n",
        "print(\"Coefficients: \\n\", regr.coef_)\n",
        "# The mean squared error\n",
        "print(\"Mean squared error: %.2f\" % mean_squared_error(Y_test,y_predictions))\n",
        "# The coefficient of determination: 1 is perfect prediction\n",
        "print(\"R2_score: %.2f\" % r2_score(Y_test,y_predictions))#"
      ],
      "metadata": {
        "id": "37Rs7sVCL8MG",
        "colab": {
          "base_uri": "https://localhost:8080/"
        },
        "outputId": "3f338ff1-19e1-4e46-b487-276d5bd9d43a"
      },
      "execution_count": 66,
      "outputs": [
        {
          "output_type": "stream",
          "name": "stdout",
          "text": [
            "Coefficients: \n",
            " [-0.3897911   0.10928405]\n",
            "Mean squared error: 0.01\n",
            "R2_score: 0.38\n"
          ]
        }
      ]
    },
    {
      "cell_type": "code",
      "source": [
        "X_test.shape"
      ],
      "metadata": {
        "id": "tx2Lf4PgWYhF",
        "colab": {
          "base_uri": "https://localhost:8080/"
        },
        "outputId": "b2de702c-f6b4-47d4-edeb-6baae5ee5b66"
      },
      "execution_count": 67,
      "outputs": [
        {
          "output_type": "execute_result",
          "data": {
            "text/plain": [
              "(728, 5)"
            ]
          },
          "metadata": {},
          "execution_count": 67
        }
      ]
    },
    {
      "cell_type": "code",
      "execution_count": 68,
      "metadata": {
        "id": "9ECjLOXrTQ8D"
      },
      "outputs": [],
      "source": [
        "X_train_df_dt = pd.DataFrame(X_train, columns = ['GWL1t','precip','Tair','Year','Month'])\n",
        "#X_train_df = X_train_df[0:23766]"
      ]
    },
    {
      "cell_type": "code",
      "execution_count": 69,
      "metadata": {
        "id": "tmr4AfFjTfy4"
      },
      "outputs": [],
      "source": [
        "inverse_X_train_dt = MinMax_scaler.inverse_transform(X_train_df_dt[['GWL1t','precip','Tair','Year','Month']])\n",
        "#inverse_y_train = MinMax_scaler.inverse_transform(x_train_df[['Gage Height', 'Year', 'Month','y_train']])"
      ]
    },
    {
      "cell_type": "code",
      "execution_count": 70,
      "metadata": {
        "id": "UUBukK9OTm4w"
      },
      "outputs": [],
      "source": [
        "X_test_df_dt = pd.DataFrame(X_test, columns = ['GWL1t','precip','Tair','Year','Month'])\n",
        "X_test_df_dt = X_test_df_dt[0:680]"
      ]
    },
    {
      "cell_type": "code",
      "execution_count": 71,
      "metadata": {
        "id": "CNmdACjyVI0L"
      },
      "outputs": [],
      "source": [
        "X_test_df_dt['predictions'] = y_predictions[:680]\n",
        "X_test_df_dt['Y_test'] = Y_test"
      ]
    },
    {
      "cell_type": "code",
      "execution_count": 72,
      "metadata": {
        "id": "n00Y7E8SVNyI"
      },
      "outputs": [],
      "source": [
        "inverse_dt = MinMax_scaler.inverse_transform(X_test_df_dt[['Y_test','precip','Tair','Year','Month']])\n",
        "inverse2_dt = MinMax_scaler.inverse_transform(X_test_df_dt[['predictions','precip','Tair','Year','Month']])\n",
        "#inverse3 = MinMax_scaler.inverse_transform(x_test_df[['Gage Height', 'Year', 'Month', 'Discharge']])"
      ]
    },
    {
      "cell_type": "code",
      "source": [
        "from sklearn.metrics import mean_squared_error\n",
        "from math import sqrt\n",
        "mse = sqrt(mean_squared_error(inverse_dt[:,0], inverse2_dt[:,0]))\n",
        "print(mse)\n",
        "r2score = r2_score(inverse_dt[:,0], inverse2_dt[:,0])\n",
        "print(r2score)"
      ],
      "metadata": {
        "colab": {
          "base_uri": "https://localhost:8080/"
        },
        "outputId": "1ec0ce75-9c26-4902-f69f-d070a6a5a8ac",
        "id": "DndqEkTBVgs_"
      },
      "execution_count": 73,
      "outputs": [
        {
          "output_type": "stream",
          "name": "stdout",
          "text": [
            "0.716968187824914\n",
            "0.3816255746468834\n"
          ]
        }
      ]
    },
    {
      "cell_type": "markdown",
      "source": [
        "### **Random Forest Regressor**"
      ],
      "metadata": {
        "id": "tPis9h7y9Uf7"
      }
    },
    {
      "cell_type": "code",
      "source": [
        "from sklearn.ensemble import RandomForestRegressor"
      ],
      "metadata": {
        "id": "osNaw8ve9Tk8"
      },
      "execution_count": 74,
      "outputs": []
    },
    {
      "cell_type": "code",
      "source": [
        "rf = RandomForestRegressor()\n",
        "rf.fit(XX_train_reshape, Y_train)\n",
        "\n",
        "\n",
        "y_predictions_rf = rf.predict(XX_test_reshape)"
      ],
      "metadata": {
        "id": "XfsDxmB295RJ"
      },
      "execution_count": 75,
      "outputs": []
    },
    {
      "cell_type": "code",
      "source": [
        "fig, axs = pyplot.subplots()\n",
        "fig.set_figheight(4)\n",
        "fig.set_figwidth(15)\n",
        "axs.plot(y_predictions_rf, color='red', label='Predicted')\n",
        "axs.plot(Y_test, color='blue', label='Actual')\n",
        "pyplot.xlabel('Timestamp')\n",
        "pyplot.ylabel('Groundwater Level')\n",
        "pyplot.legend(loc='upper left')\n",
        "pyplot.show()"
      ],
      "metadata": {
        "id": "V0e4NSl4-RJG",
        "colab": {
          "base_uri": "https://localhost:8080/",
          "height": 279
        },
        "outputId": "3d3aef86-0a2f-4820-b1a6-0b08e5ff9dd4"
      },
      "execution_count": 76,
      "outputs": [
        {
          "output_type": "display_data",
          "data": {
            "text/plain": [
              "<Figure size 1080x288 with 1 Axes>"
            ],
            "image/png": "[encoded data removed]"
          },
          "metadata": {
            "needs_background": "light"
          }
        }
      ]
    },
    {
      "cell_type": "code",
      "source": [
        "#The coefficients\n",
        "print(\"Coefficients: \\n\", regr.coef_)\n",
        "# The mean squared error\n",
        "print(\"Mean squared error: %.2f\" % mean_squared_error(Y_test,y_predictions_rf))\n",
        "# The coefficient of determination: 1 is perfect prediction\n",
        "print(\"R2_score: %.2f\" % r2_score(Y_test,y_predictions_rf))#"
      ],
      "metadata": {
        "id": "uahFtFXE-hMg",
        "colab": {
          "base_uri": "https://localhost:8080/"
        },
        "outputId": "23d970b5-4216-41fd-f60d-6da4fd13dd22"
      },
      "execution_count": 77,
      "outputs": [
        {
          "output_type": "stream",
          "name": "stdout",
          "text": [
            "Coefficients: \n",
            " [-0.3897911   0.10928405]\n",
            "Mean squared error: 0.00\n",
            "R2_score: 0.75\n"
          ]
        }
      ]
    },
    {
      "cell_type": "code",
      "execution_count": 78,
      "metadata": {
        "id": "zkAU_fxB_tUe"
      },
      "outputs": [],
      "source": [
        "X_train_df_rf = pd.DataFrame(X_train, columns = ['GWL1t','precip','Tair','Year','Month'])"
      ]
    },
    {
      "cell_type": "code",
      "execution_count": 79,
      "metadata": {
        "id": "M2UskG_U_yNx"
      },
      "outputs": [],
      "source": [
        "#inverse_X_train_rf = MinMax_scaler.inverse_transform(X_train_df_rf[['GWL1t','precip','Tair','Year','Month']])"
      ]
    },
    {
      "cell_type": "code",
      "execution_count": 80,
      "metadata": {
        "id": "7vfPDEFI_2rw"
      },
      "outputs": [],
      "source": [
        "X_test_df_rf = pd.DataFrame(X_test, columns = ['GWL1t','precip','Tair','Year','Month'])\n",
        "X_test_df_rf = X_test_df_rf[0:680]"
      ]
    },
    {
      "cell_type": "code",
      "execution_count": 81,
      "metadata": {
        "id": "GzHbqiUD_9mL"
      },
      "outputs": [],
      "source": [
        "X_test_df_rf['predictions'] = y_predictions_rf[:680]\n",
        "X_test_df_rf['Y_test'] = Y_test"
      ]
    },
    {
      "cell_type": "code",
      "execution_count": 82,
      "metadata": {
        "id": "pnsVKueuAEQl"
      },
      "outputs": [],
      "source": [
        "inverse_rf = MinMax_scaler.inverse_transform(X_test_df_rf[['Y_test','precip','Tair','Year','Month']])\n",
        "inverse2_rf = MinMax_scaler.inverse_transform(X_test_df_rf[['predictions','precip','Tair','Year','Month']])"
      ]
    },
    {
      "cell_type": "code",
      "source": [
        "from sklearn.metrics import mean_squared_error\n",
        "from math import sqrt\n",
        "mse = sqrt(mean_squared_error(inverse_rf[:,0], inverse2_rf[:,0]))\n",
        "print(mse)\n",
        "r2score = r2_score(inverse_rf[:,0], inverse2_rf[:,0])\n",
        "print(r2score)"
      ],
      "metadata": {
        "id": "5-lccZtyAKE3",
        "colab": {
          "base_uri": "https://localhost:8080/"
        },
        "outputId": "4455eca4-511f-4b13-f1ba-870457e5a44d"
      },
      "execution_count": 83,
      "outputs": [
        {
          "output_type": "stream",
          "name": "stdout",
          "text": [
            "0.4564963878473158\n",
            "0.7493161026101657\n"
          ]
        }
      ]
    },
    {
      "cell_type": "markdown",
      "source": [
        "### **Neural Network: Multilayer Perceptron**\n",
        "\n"
      ],
      "metadata": {
        "id": "MTITvPFOqARe"
      }
    },
    {
      "cell_type": "code",
      "source": [
        "from sklearn.neural_network import MLPRegressor"
      ],
      "metadata": {
        "id": "2G7sSnqSp_jo"
      },
      "execution_count": 84,
      "outputs": []
    },
    {
      "cell_type": "code",
      "source": [
        "regr_MLP = MLPRegressor(hidden_layer_sizes=(200,),random_state=1,max_iter=500).fit(XX_train_reshape, Y_train)\n",
        "y_predictions_MLP = regr_MLP.predict(XX_test_reshape)"
      ],
      "metadata": {
        "id": "vmmGYVq4qPaW"
      },
      "execution_count": 85,
      "outputs": []
    },
    {
      "cell_type": "code",
      "source": [
        "fig, axs = pyplot.subplots()\n",
        "fig.set_figheight(4)\n",
        "fig.set_figwidth(15)\n",
        "axs.plot(y_predictions_MLP, color='red', label='Predicted')\n",
        "axs.plot(Y_test, color='blue', label='Actual')\n",
        "pyplot.xlabel('Timestamp')\n",
        "pyplot.ylabel('Groundwater Level')\n",
        "pyplot.legend(loc='upper left')\n",
        "pyplot.show()"
      ],
      "metadata": {
        "colab": {
          "base_uri": "https://localhost:8080/",
          "height": 279
        },
        "id": "JBq2dGtNrK7B",
        "outputId": "26d6b350-cfd5-481f-c81b-ed4078b03aaf"
      },
      "execution_count": 86,
      "outputs": [
        {
          "output_type": "display_data",
          "data": {
            "text/plain": [
              "<Figure size 1080x288 with 1 Axes>"
            ],
            "image/png": "[encoded data removed]"
          },
          "metadata": {
            "needs_background": "light"
          }
        }
      ]
    },
    {
      "cell_type": "code",
      "source": [
        "#The coefficients\n",
        "print(\"Coefficients: \\n\", regr.coef_)\n",
        "# The mean squared error\n",
        "print(\"Mean squared error: %.2f\" % mean_squared_error(Y_test,y_predictions_MLP))\n",
        "# The coefficient of determination: 1 is perfect prediction\n",
        "print(\"R2_score: %.2f\" % r2_score(Y_test,y_predictions_MLP))#"
      ],
      "metadata": {
        "colab": {
          "base_uri": "https://localhost:8080/"
        },
        "id": "3NZL6MqhrRHD",
        "outputId": "2508d37a-9e03-4c0d-bca8-55eb46c2e8cc"
      },
      "execution_count": 87,
      "outputs": [
        {
          "output_type": "stream",
          "name": "stdout",
          "text": [
            "Coefficients: \n",
            " [-0.3897911   0.10928405]\n",
            "Mean squared error: 0.01\n",
            "R2_score: 0.65\n"
          ]
        }
      ]
    },
    {
      "cell_type": "markdown",
      "source": [
        "### **Bidirectional LSTM**"
      ],
      "metadata": {
        "id": "jU58AqFNS8_k"
      }
    },
    {
      "cell_type": "code",
      "execution_count": 88,
      "metadata": {
        "id": "IWjpYjABICPo"
      },
      "outputs": [],
      "source": [
        "model = Sequential()\n",
        "model.add(Bidirectional(LSTM(64, return_sequences=True, dropout= 0.5, input_shape =(XX_train.shape[1], XX_train.shape[-1]))))\n",
        "#model.add(Bidirectional(LSTM(32, dropout = 0.5)))\n",
        "#model.add(Bidirectional(LSTM(16, dropout = 0.5)))\n",
        "model.add(Bidirectional(LSTM(20, dropout = 0.5)))\n",
        "model.add(Dense(1))\n",
        "opt = keras.optimizers.Adam(learning_rate=0.01)\n",
        "model.compile(loss='mse', optimizer=opt)"
      ]
    },
    {
      "cell_type": "code",
      "source": [
        "#from keras.utils import plot_model"
      ],
      "metadata": {
        "id": "FN2XEf-mHWJ5"
      },
      "execution_count": 89,
      "outputs": []
    },
    {
      "cell_type": "code",
      "source": [
        "#tf.keras.utils.plot_model "
      ],
      "metadata": {
        "id": "sJywIrzGG_Kw"
      },
      "execution_count": 90,
      "outputs": []
    },
    {
      "cell_type": "code",
      "source": [
        "history = model.fit(XX_train, Y_train, batch_size=128, epochs=10, validation_split = 0.33)"
      ],
      "metadata": {
        "id": "9ByxwQUrhunO",
        "colab": {
          "base_uri": "https://localhost:8080/"
        },
        "outputId": "4ae69eff-5698-4f19-cfe8-5c1c446fe7cc"
      },
      "execution_count": 91,
      "outputs": [
        {
          "output_type": "stream",
          "name": "stdout",
          "text": [
            "Epoch 1/10\n",
            "35/35 [==============================] - 14s 59ms/step - loss: 0.0592 - val_loss: 0.0166\n",
            "Epoch 2/10\n",
            "35/35 [==============================] - 1s 18ms/step - loss: 0.0155 - val_loss: 0.0117\n",
            "Epoch 3/10\n",
            "35/35 [==============================] - 1s 18ms/step - loss: 0.0147 - val_loss: 0.0120\n",
            "Epoch 4/10\n",
            "35/35 [==============================] - 1s 18ms/step - loss: 0.0131 - val_loss: 0.0091\n",
            "Epoch 5/10\n",
            "35/35 [==============================] - 1s 18ms/step - loss: 0.0128 - val_loss: 0.0165\n",
            "Epoch 6/10\n",
            "35/35 [==============================] - 1s 18ms/step - loss: 0.0125 - val_loss: 0.0184\n",
            "Epoch 7/10\n",
            "35/35 [==============================] - 1s 17ms/step - loss: 0.0126 - val_loss: 0.0131\n",
            "Epoch 8/10\n",
            "35/35 [==============================] - 1s 18ms/step - loss: 0.0111 - val_loss: 0.0124\n",
            "Epoch 9/10\n",
            "35/35 [==============================] - 1s 17ms/step - loss: 0.0109 - val_loss: 0.0126\n",
            "Epoch 10/10\n",
            "35/35 [==============================] - 1s 18ms/step - loss: 0.0105 - val_loss: 0.0104\n"
          ]
        }
      ]
    },
    {
      "cell_type": "code",
      "execution_count": 92,
      "metadata": {
        "id": "dZKRHWrBIM9_",
        "colab": {
          "base_uri": "https://localhost:8080/"
        },
        "outputId": "9d189727-f5de-402c-a37f-9d54bbb4cdec"
      },
      "outputs": [
        {
          "output_type": "stream",
          "name": "stdout",
          "text": [
            "22/22 [==============================] - 2s 9ms/step\n"
          ]
        }
      ],
      "source": [
        "predictions = history.model.predict(XX_test)"
      ]
    },
    {
      "cell_type": "code",
      "execution_count": 93,
      "metadata": {
        "id": "_-kCEcFiIQ9w"
      },
      "outputs": [],
      "source": [
        "def evaluate_predictions(predictions, Y_test, outliers):\n",
        "    ratio = []\n",
        "    differences = []\n",
        "    for pred in range (len(Y_test)):\n",
        "        ratio.append((Y_test[pred]/predictions[pred])-1)\n",
        "        differences.append(Y_test[pred] - predictions[pred]) \n",
        "\n",
        "    n_outliers = int(len(differences) * outliers)\n",
        "    outliers = pd.Series(differences).astype(float).nlargest(n_outliers)\n",
        "\n",
        "    return ratio, differences, outliers"
      ]
    },
    {
      "cell_type": "code",
      "execution_count": 94,
      "metadata": {
        "id": "oCjxgYnhIbLG"
      },
      "outputs": [],
      "source": [
        "ratio, differences, outliers = evaluate_predictions(predictions, Y_test, 0.01)"
      ]
    },
    {
      "cell_type": "code",
      "execution_count": 95,
      "metadata": {
        "id": "T5TZqHZbSVCP",
        "colab": {
          "base_uri": "https://localhost:8080/"
        },
        "outputId": "e1494782-09be-498d-e074-eae696262bc1"
      },
      "outputs": [
        {
          "output_type": "execute_result",
          "data": {
            "text/plain": [
              "661    0.705815\n",
              "657    0.709930\n",
              "658    0.714454\n",
              "656    0.707028\n",
              "659    0.716525\n",
              "662    0.707717\n",
              "dtype: float64"
            ]
          },
          "metadata": {},
          "execution_count": 95
        }
      ],
      "source": [
        "for index in outliers.index:\n",
        "    outliers[index] = predictions[index]\n",
        "outliers"
      ]
    },
    {
      "cell_type": "code",
      "execution_count": 96,
      "metadata": {
        "id": "27Bj2YGmSaJg",
        "colab": {
          "base_uri": "https://localhost:8080/",
          "height": 279
        },
        "outputId": "f701e9b9-4c62-4fb3-c5e0-3330d459d5ce"
      },
      "outputs": [
        {
          "output_type": "display_data",
          "data": {
            "text/plain": [
              "<Figure size 1080x288 with 1 Axes>"
            ],
            "image/png": "[encoded data removed]"
          },
          "metadata": {
            "needs_background": "light"
          }
        }
      ],
      "source": [
        "fig, axs = pyplot.subplots()\n",
        "fig.set_figheight(4)\n",
        "fig.set_figwidth(15)\n",
        "axs.plot(predictions, color='red', label='Predicted')\n",
        "axs.plot(Y_test, color='blue', label='Actual')\n",
        "pyplot.xlabel('Timestamp')\n",
        "pyplot.ylabel('Groundwater Level')\n",
        "pyplot.legend(loc='upper left')\n",
        "pyplot.show()"
      ]
    },
    {
      "cell_type": "code",
      "execution_count": 97,
      "metadata": {
        "id": "fOsp6Qk6FPaV",
        "colab": {
          "base_uri": "https://localhost:8080/"
        },
        "outputId": "4bde1c59-f8dc-4819-8576-b9fba9c71792"
      },
      "outputs": [
        {
          "output_type": "stream",
          "name": "stdout",
          "text": [
            "0.4049587889250011\n"
          ]
        }
      ],
      "source": [
        "from sklearn.metrics import mean_absolute_percentage_error\n",
        "from math import sqrt\n",
        "mape = sqrt(mean_absolute_percentage_error(Y_test, predictions))\n",
        "print(mape)"
      ]
    },
    {
      "cell_type": "code",
      "execution_count": 98,
      "metadata": {
        "id": "3hawruY6FQ0f",
        "colab": {
          "base_uri": "https://localhost:8080/"
        },
        "outputId": "6b458bb8-98ae-4c8a-b260-e4e600d6fdd4"
      },
      "outputs": [
        {
          "output_type": "stream",
          "name": "stdout",
          "text": [
            "0.10748421114813381\n",
            "0.41101657764808264\n"
          ]
        }
      ],
      "source": [
        "from sklearn.metrics import mean_squared_error\n",
        "from math import sqrt\n",
        "mse = sqrt(mean_squared_error(Y_test, predictions))\n",
        "print(mse)\n",
        "r2score_lstm = r2_score(Y_test, predictions)\n",
        "print(r2score_lstm)"
      ]
    },
    {
      "cell_type": "code",
      "execution_count": 99,
      "metadata": {
        "id": "KYLOz8fb3ENx"
      },
      "outputs": [],
      "source": [
        "X_train_df = pd.DataFrame(X_train, columns = ['GWL1t','precip','Tair','Year','Month'])\n",
        "#X_train_df = X_train_df[0:23766]"
      ]
    },
    {
      "cell_type": "code",
      "execution_count": 100,
      "metadata": {
        "id": "qxvu8lKN3LW2"
      },
      "outputs": [],
      "source": [
        "inverse_X_train = MinMax_scaler.inverse_transform(X_train_df[['GWL1t','precip','Tair','Year','Month']])\n",
        "#inverse_y_train = MinMax_scaler.inverse_transform(x_train_df[['Gage Height', 'Year', 'Month','y_train']])"
      ]
    },
    {
      "cell_type": "code",
      "execution_count": 101,
      "metadata": {
        "id": "lm45614zKeZs"
      },
      "outputs": [],
      "source": [
        "X_test_df = pd.DataFrame(X_test, columns = ['GWL1t','precip','Tair','Year','Month'])\n",
        "X_test_df = X_test_df[0:680]"
      ]
    },
    {
      "cell_type": "code",
      "source": [
        "predictions.shape"
      ],
      "metadata": {
        "id": "cX5c5IeSpzYF",
        "colab": {
          "base_uri": "https://localhost:8080/"
        },
        "outputId": "18311d4a-e2e3-4d84-845d-58ee8aaed50b"
      },
      "execution_count": 102,
      "outputs": [
        {
          "output_type": "execute_result",
          "data": {
            "text/plain": [
              "(680, 1)"
            ]
          },
          "metadata": {},
          "execution_count": 102
        }
      ]
    },
    {
      "cell_type": "code",
      "execution_count": 103,
      "metadata": {
        "id": "R11-QjDuLxs-"
      },
      "outputs": [],
      "source": [
        "X_test_df['predictions'] = predictions[:680]\n",
        "X_test_df['Y_test'] = Y_test"
      ]
    },
    {
      "cell_type": "code",
      "execution_count": 104,
      "metadata": {
        "id": "zrLrDf43DWyA"
      },
      "outputs": [],
      "source": [
        "inverse = MinMax_scaler.inverse_transform(X_test_df[['Y_test','precip','Tair','Year','Month']])\n",
        "inverse2 = MinMax_scaler.inverse_transform(X_test_df[['predictions','precip','Tair','Year','Month']])\n",
        "#inverse3 = MinMax_scaler.inverse_transform(x_test_df[['Gage Height', 'Year', 'Month', 'Discharge']])"
      ]
    },
    {
      "cell_type": "code",
      "execution_count": 105,
      "metadata": {
        "id": "l-1pWq2cQo6S",
        "colab": {
          "base_uri": "https://localhost:8080/",
          "height": 279
        },
        "outputId": "eb9b5e02-de1b-4fc9-bc0c-912f730ce359"
      },
      "outputs": [
        {
          "output_type": "display_data",
          "data": {
            "text/plain": [
              "<Figure size 1080x288 with 1 Axes>"
            ],
            "image/png": "[encoded data removed]"
          },
          "metadata": {
            "needs_background": "light"
          }
        }
      ],
      "source": [
        "fig, axs = pyplot.subplots()\n",
        "fig.set_figheight(4)\n",
        "fig.set_figwidth(15)\n",
        "axs.plot(inverse2[:,0], color='red', label='Predicted')\n",
        "axs.plot(inverse[:,0], color='blue', label='Actual')\n",
        "pyplot.xlabel('Timestamp')\n",
        "pyplot.ylabel('Groundwater Level')\n",
        "pyplot.legend(loc='upper left')\n",
        "pyplot.show()"
      ]
    },
    {
      "cell_type": "code",
      "source": [
        "from sklearn.metrics import mean_squared_error\n",
        "from math import sqrt\n",
        "mse = sqrt(mean_squared_error(inverse[:,0], inverse2[:,0]))\n",
        "print(mse)\n",
        "r2score = r2_score(inverse[:,0], inverse2[:,0])\n",
        "print(r2score)"
      ],
      "metadata": {
        "id": "hvjmvbvnM4zT",
        "colab": {
          "base_uri": "https://localhost:8080/"
        },
        "outputId": "f6150dfd-d4dd-464f-d296-c471e9ac4274"
      },
      "execution_count": 106,
      "outputs": [
        {
          "output_type": "stream",
          "name": "stdout",
          "text": [
            "0.699722214574351\n",
            "0.4110165776480825\n"
          ]
        }
      ]
    },
    {
      "cell_type": "markdown",
      "source": [
        "### **Arificial Neural Network**"
      ],
      "metadata": {
        "id": "6F0miW4c90kR"
      }
    },
    {
      "cell_type": "code",
      "source": [
        "model2 = Sequential([\n",
        "    Dense(100, activation='relu', input_shape=(XX_train.shape[1], XX_train.shape[-1])),\n",
        "    Dense(200, activation='relu' ),\n",
        "    Dense(1, activation='relu')\n",
        "])"
      ],
      "metadata": {
        "id": "Uebrq6tg-GHc"
      },
      "execution_count": 107,
      "outputs": []
    },
    {
      "cell_type": "code",
      "source": [
        "model2.compile(optimizer='adam',\n",
        "              loss='mse',\n",
        "              metrics=['accuracy'])"
      ],
      "metadata": {
        "id": "l-2zn2C6-Pjn"
      },
      "execution_count": 108,
      "outputs": []
    },
    {
      "cell_type": "code",
      "source": [
        "hist = model2.fit(XX_train, Y_train,\n",
        "          batch_size=128, epochs=100, validation_split=0.2)"
      ],
      "metadata": {
        "colab": {
          "base_uri": "https://localhost:8080/"
        },
        "id": "bcfrTR15-UO_",
        "outputId": "3bb3f6c8-2b3e-42fc-aaa1-057a69664715"
      },
      "execution_count": 109,
      "outputs": [
        {
          "output_type": "stream",
          "name": "stdout",
          "text": [
            "Epoch 1/100\n",
            "41/41 [==============================] - 2s 15ms/step - loss: 0.5720 - accuracy: 1.9220e-04 - val_loss: 0.6195 - val_accuracy: 0.0000e+00\n",
            "Epoch 2/100\n",
            "41/41 [==============================] - 0s 11ms/step - loss: 0.5720 - accuracy: 1.9220e-04 - val_loss: 0.6195 - val_accuracy: 0.0000e+00\n",
            "Epoch 3/100\n",
            "41/41 [==============================] - 1s 12ms/step - loss: 0.5720 - accuracy: 1.9220e-04 - val_loss: 0.6195 - val_accuracy: 0.0000e+00\n",
            "Epoch 4/100\n",
            "41/41 [==============================] - 0s 9ms/step - loss: 0.5720 - accuracy: 1.9220e-04 - val_loss: 0.6195 - val_accuracy: 0.0000e+00\n",
            "Epoch 5/100\n",
            "41/41 [==============================] - 0s 9ms/step - loss: 0.5720 - accuracy: 1.9220e-04 - val_loss: 0.6195 - val_accuracy: 0.0000e+00\n",
            "Epoch 6/100\n",
            "41/41 [==============================] - 0s 10ms/step - loss: 0.5720 - accuracy: 1.9220e-04 - val_loss: 0.6195 - val_accuracy: 0.0000e+00\n",
            "Epoch 7/100\n",
            "41/41 [==============================] - 0s 12ms/step - loss: 0.5720 - accuracy: 1.9220e-04 - val_loss: 0.6195 - val_accuracy: 0.0000e+00\n",
            "Epoch 8/100\n",
            "41/41 [==============================] - 1s 13ms/step - loss: 0.5720 - accuracy: 1.9220e-04 - val_loss: 0.6195 - val_accuracy: 0.0000e+00\n",
            "Epoch 9/100\n",
            "41/41 [==============================] - 1s 13ms/step - loss: 0.5720 - accuracy: 1.9220e-04 - val_loss: 0.6195 - val_accuracy: 0.0000e+00\n",
            "Epoch 10/100\n",
            "41/41 [==============================] - 1s 13ms/step - loss: 0.5720 - accuracy: 1.9220e-04 - val_loss: 0.6195 - val_accuracy: 0.0000e+00\n",
            "Epoch 11/100\n",
            "41/41 [==============================] - 0s 12ms/step - loss: 0.5720 - accuracy: 1.9220e-04 - val_loss: 0.6195 - val_accuracy: 0.0000e+00\n",
            "Epoch 12/100\n",
            "41/41 [==============================] - 0s 12ms/step - loss: 0.5720 - accuracy: 1.9220e-04 - val_loss: 0.6195 - val_accuracy: 0.0000e+00\n",
            "Epoch 13/100\n",
            "41/41 [==============================] - 1s 13ms/step - loss: 0.5720 - accuracy: 1.9220e-04 - val_loss: 0.6195 - val_accuracy: 0.0000e+00\n",
            "Epoch 14/100\n",
            "41/41 [==============================] - 0s 12ms/step - loss: 0.5720 - accuracy: 1.9220e-04 - val_loss: 0.6195 - val_accuracy: 0.0000e+00\n",
            "Epoch 15/100\n",
            "41/41 [==============================] - 0s 11ms/step - loss: 0.5720 - accuracy: 1.9220e-04 - val_loss: 0.6195 - val_accuracy: 0.0000e+00\n",
            "Epoch 16/100\n",
            "41/41 [==============================] - 0s 10ms/step - loss: 0.5720 - accuracy: 1.9220e-04 - val_loss: 0.6195 - val_accuracy: 0.0000e+00\n",
            "Epoch 17/100\n",
            "41/41 [==============================] - 0s 11ms/step - loss: 0.5720 - accuracy: 1.9220e-04 - val_loss: 0.6195 - val_accuracy: 0.0000e+00\n",
            "Epoch 18/100\n",
            "41/41 [==============================] - 0s 10ms/step - loss: 0.5720 - accuracy: 1.9220e-04 - val_loss: 0.6195 - val_accuracy: 0.0000e+00\n",
            "Epoch 19/100\n",
            "41/41 [==============================] - 0s 11ms/step - loss: 0.5720 - accuracy: 1.9220e-04 - val_loss: 0.6195 - val_accuracy: 0.0000e+00\n",
            "Epoch 20/100\n",
            "41/41 [==============================] - 1s 13ms/step - loss: 0.5720 - accuracy: 1.9220e-04 - val_loss: 0.6195 - val_accuracy: 0.0000e+00\n",
            "Epoch 21/100\n",
            "41/41 [==============================] - 1s 14ms/step - loss: 0.5720 - accuracy: 1.9220e-04 - val_loss: 0.6195 - val_accuracy: 0.0000e+00\n",
            "Epoch 22/100\n",
            "41/41 [==============================] - 0s 9ms/step - loss: 0.5720 - accuracy: 1.9220e-04 - val_loss: 0.6195 - val_accuracy: 0.0000e+00\n",
            "Epoch 23/100\n",
            "41/41 [==============================] - 1s 13ms/step - loss: 0.5720 - accuracy: 1.9220e-04 - val_loss: 0.6195 - val_accuracy: 0.0000e+00\n",
            "Epoch 24/100\n",
            "41/41 [==============================] - 0s 9ms/step - loss: 0.5720 - accuracy: 1.9220e-04 - val_loss: 0.6195 - val_accuracy: 0.0000e+00\n",
            "Epoch 25/100\n",
            "41/41 [==============================] - 0s 6ms/step - loss: 0.5720 - accuracy: 1.9220e-04 - val_loss: 0.6195 - val_accuracy: 0.0000e+00\n",
            "Epoch 26/100\n",
            "41/41 [==============================] - 0s 6ms/step - loss: 0.5720 - accuracy: 1.9220e-04 - val_loss: 0.6195 - val_accuracy: 0.0000e+00\n",
            "Epoch 27/100\n",
            "41/41 [==============================] - 0s 6ms/step - loss: 0.5720 - accuracy: 1.9220e-04 - val_loss: 0.6195 - val_accuracy: 0.0000e+00\n",
            "Epoch 28/100\n",
            "41/41 [==============================] - 0s 6ms/step - loss: 0.5720 - accuracy: 1.9220e-04 - val_loss: 0.6195 - val_accuracy: 0.0000e+00\n",
            "Epoch 29/100\n",
            "41/41 [==============================] - 0s 6ms/step - loss: 0.5720 - accuracy: 1.9220e-04 - val_loss: 0.6195 - val_accuracy: 0.0000e+00\n",
            "Epoch 30/100\n",
            "41/41 [==============================] - 0s 7ms/step - loss: 0.5720 - accuracy: 1.9220e-04 - val_loss: 0.6195 - val_accuracy: 0.0000e+00\n",
            "Epoch 31/100\n",
            "41/41 [==============================] - 0s 6ms/step - loss: 0.5720 - accuracy: 1.9220e-04 - val_loss: 0.6195 - val_accuracy: 0.0000e+00\n",
            "Epoch 32/100\n",
            "41/41 [==============================] - 0s 6ms/step - loss: 0.5720 - accuracy: 1.9220e-04 - val_loss: 0.6195 - val_accuracy: 0.0000e+00\n",
            "Epoch 33/100\n",
            "41/41 [==============================] - 0s 5ms/step - loss: 0.5720 - accuracy: 1.9220e-04 - val_loss: 0.6195 - val_accuracy: 0.0000e+00\n",
            "Epoch 34/100\n",
            "41/41 [==============================] - 0s 6ms/step - loss: 0.5720 - accuracy: 1.9220e-04 - val_loss: 0.6195 - val_accuracy: 0.0000e+00\n",
            "Epoch 35/100\n",
            "41/41 [==============================] - 0s 5ms/step - loss: 0.5720 - accuracy: 1.9220e-04 - val_loss: 0.6195 - val_accuracy: 0.0000e+00\n",
            "Epoch 36/100\n",
            "41/41 [==============================] - 0s 6ms/step - loss: 0.5720 - accuracy: 1.9220e-04 - val_loss: 0.6195 - val_accuracy: 0.0000e+00\n",
            "Epoch 37/100\n",
            "41/41 [==============================] - 0s 6ms/step - loss: 0.5720 - accuracy: 1.9220e-04 - val_loss: 0.6195 - val_accuracy: 0.0000e+00\n",
            "Epoch 38/100\n",
            "41/41 [==============================] - 0s 7ms/step - loss: 0.5720 - accuracy: 1.9220e-04 - val_loss: 0.6195 - val_accuracy: 0.0000e+00\n",
            "Epoch 39/100\n",
            "41/41 [==============================] - 0s 5ms/step - loss: 0.5720 - accuracy: 1.9220e-04 - val_loss: 0.6195 - val_accuracy: 0.0000e+00\n",
            "Epoch 40/100\n",
            "41/41 [==============================] - 0s 6ms/step - loss: 0.5720 - accuracy: 1.9220e-04 - val_loss: 0.6195 - val_accuracy: 0.0000e+00\n",
            "Epoch 41/100\n",
            "41/41 [==============================] - 0s 5ms/step - loss: 0.5720 - accuracy: 1.9220e-04 - val_loss: 0.6195 - val_accuracy: 0.0000e+00\n",
            "Epoch 42/100\n",
            "41/41 [==============================] - 0s 6ms/step - loss: 0.5720 - accuracy: 1.9220e-04 - val_loss: 0.6195 - val_accuracy: 0.0000e+00\n",
            "Epoch 43/100\n",
            "41/41 [==============================] - 0s 6ms/step - loss: 0.5720 - accuracy: 1.9220e-04 - val_loss: 0.6195 - val_accuracy: 0.0000e+00\n",
            "Epoch 44/100\n",
            "41/41 [==============================] - 0s 6ms/step - loss: 0.5720 - accuracy: 1.9220e-04 - val_loss: 0.6195 - val_accuracy: 0.0000e+00\n",
            "Epoch 45/100\n",
            "41/41 [==============================] - 0s 6ms/step - loss: 0.5720 - accuracy: 1.9220e-04 - val_loss: 0.6195 - val_accuracy: 0.0000e+00\n",
            "Epoch 46/100\n",
            "41/41 [==============================] - 0s 7ms/step - loss: 0.5720 - accuracy: 1.9220e-04 - val_loss: 0.6195 - val_accuracy: 0.0000e+00\n",
            "Epoch 47/100\n",
            "41/41 [==============================] - 0s 6ms/step - loss: 0.5720 - accuracy: 1.9220e-04 - val_loss: 0.6195 - val_accuracy: 0.0000e+00\n",
            "Epoch 48/100\n",
            "41/41 [==============================] - 0s 6ms/step - loss: 0.5720 - accuracy: 1.9220e-04 - val_loss: 0.6195 - val_accuracy: 0.0000e+00\n",
            "Epoch 49/100\n",
            "41/41 [==============================] - 0s 5ms/step - loss: 0.5720 - accuracy: 1.9220e-04 - val_loss: 0.6195 - val_accuracy: 0.0000e+00\n",
            "Epoch 50/100\n",
            "41/41 [==============================] - 0s 6ms/step - loss: 0.5720 - accuracy: 1.9220e-04 - val_loss: 0.6195 - val_accuracy: 0.0000e+00\n",
            "Epoch 51/100\n",
            "41/41 [==============================] - 0s 6ms/step - loss: 0.5720 - accuracy: 1.9220e-04 - val_loss: 0.6195 - val_accuracy: 0.0000e+00\n",
            "Epoch 52/100\n",
            "41/41 [==============================] - 0s 6ms/step - loss: 0.5720 - accuracy: 1.9220e-04 - val_loss: 0.6195 - val_accuracy: 0.0000e+00\n",
            "Epoch 53/100\n",
            "41/41 [==============================] - 0s 6ms/step - loss: 0.5720 - accuracy: 1.9220e-04 - val_loss: 0.6195 - val_accuracy: 0.0000e+00\n",
            "Epoch 54/100\n",
            "41/41 [==============================] - 0s 7ms/step - loss: 0.5720 - accuracy: 1.9220e-04 - val_loss: 0.6195 - val_accuracy: 0.0000e+00\n",
            "Epoch 55/100\n",
            "41/41 [==============================] - 0s 7ms/step - loss: 0.5720 - accuracy: 1.9220e-04 - val_loss: 0.6195 - val_accuracy: 0.0000e+00\n",
            "Epoch 56/100\n",
            "41/41 [==============================] - 0s 6ms/step - loss: 0.5720 - accuracy: 1.9220e-04 - val_loss: 0.6195 - val_accuracy: 0.0000e+00\n",
            "Epoch 57/100\n",
            "41/41 [==============================] - 0s 6ms/step - loss: 0.5720 - accuracy: 1.9220e-04 - val_loss: 0.6195 - val_accuracy: 0.0000e+00\n",
            "Epoch 58/100\n",
            "41/41 [==============================] - 0s 7ms/step - loss: 0.5720 - accuracy: 1.9220e-04 - val_loss: 0.6195 - val_accuracy: 0.0000e+00\n",
            "Epoch 59/100\n",
            "41/41 [==============================] - 0s 5ms/step - loss: 0.5720 - accuracy: 1.9220e-04 - val_loss: 0.6195 - val_accuracy: 0.0000e+00\n",
            "Epoch 60/100\n",
            "41/41 [==============================] - 0s 6ms/step - loss: 0.5720 - accuracy: 1.9220e-04 - val_loss: 0.6195 - val_accuracy: 0.0000e+00\n",
            "Epoch 61/100\n",
            "41/41 [==============================] - 0s 6ms/step - loss: 0.5720 - accuracy: 1.9220e-04 - val_loss: 0.6195 - val_accuracy: 0.0000e+00\n",
            "Epoch 62/100\n",
            "41/41 [==============================] - 0s 6ms/step - loss: 0.5720 - accuracy: 1.9220e-04 - val_loss: 0.6195 - val_accuracy: 0.0000e+00\n",
            "Epoch 63/100\n",
            "41/41 [==============================] - 0s 6ms/step - loss: 0.5720 - accuracy: 1.9220e-04 - val_loss: 0.6195 - val_accuracy: 0.0000e+00\n",
            "Epoch 64/100\n",
            "41/41 [==============================] - 0s 6ms/step - loss: 0.5720 - accuracy: 1.9220e-04 - val_loss: 0.6195 - val_accuracy: 0.0000e+00\n",
            "Epoch 65/100\n",
            "41/41 [==============================] - 0s 6ms/step - loss: 0.5720 - accuracy: 1.9220e-04 - val_loss: 0.6195 - val_accuracy: 0.0000e+00\n",
            "Epoch 66/100\n",
            "41/41 [==============================] - 0s 6ms/step - loss: 0.5720 - accuracy: 1.9220e-04 - val_loss: 0.6195 - val_accuracy: 0.0000e+00\n",
            "Epoch 67/100\n",
            "41/41 [==============================] - 0s 6ms/step - loss: 0.5720 - accuracy: 1.9220e-04 - val_loss: 0.6195 - val_accuracy: 0.0000e+00\n",
            "Epoch 68/100\n",
            "41/41 [==============================] - 0s 7ms/step - loss: 0.5720 - accuracy: 1.9220e-04 - val_loss: 0.6195 - val_accuracy: 0.0000e+00\n",
            "Epoch 69/100\n",
            "41/41 [==============================] - 0s 6ms/step - loss: 0.5720 - accuracy: 1.9220e-04 - val_loss: 0.6195 - val_accuracy: 0.0000e+00\n",
            "Epoch 70/100\n",
            "41/41 [==============================] - 0s 6ms/step - loss: 0.5720 - accuracy: 1.9220e-04 - val_loss: 0.6195 - val_accuracy: 0.0000e+00\n",
            "Epoch 71/100\n",
            "41/41 [==============================] - 0s 6ms/step - loss: 0.5720 - accuracy: 1.9220e-04 - val_loss: 0.6195 - val_accuracy: 0.0000e+00\n",
            "Epoch 72/100\n",
            "41/41 [==============================] - 0s 6ms/step - loss: 0.5720 - accuracy: 1.9220e-04 - val_loss: 0.6195 - val_accuracy: 0.0000e+00\n",
            "Epoch 73/100\n",
            "41/41 [==============================] - 0s 6ms/step - loss: 0.5720 - accuracy: 1.9220e-04 - val_loss: 0.6195 - val_accuracy: 0.0000e+00\n",
            "Epoch 74/100\n",
            "41/41 [==============================] - 0s 6ms/step - loss: 0.5720 - accuracy: 1.9220e-04 - val_loss: 0.6195 - val_accuracy: 0.0000e+00\n",
            "Epoch 75/100\n",
            "41/41 [==============================] - 0s 6ms/step - loss: 0.5720 - accuracy: 1.9220e-04 - val_loss: 0.6195 - val_accuracy: 0.0000e+00\n",
            "Epoch 76/100\n",
            "41/41 [==============================] - 0s 6ms/step - loss: 0.5720 - accuracy: 1.9220e-04 - val_loss: 0.6195 - val_accuracy: 0.0000e+00\n",
            "Epoch 77/100\n",
            "41/41 [==============================] - 0s 5ms/step - loss: 0.5720 - accuracy: 1.9220e-04 - val_loss: 0.6195 - val_accuracy: 0.0000e+00\n",
            "Epoch 78/100\n",
            "41/41 [==============================] - 0s 6ms/step - loss: 0.5720 - accuracy: 1.9220e-04 - val_loss: 0.6195 - val_accuracy: 0.0000e+00\n",
            "Epoch 79/100\n",
            "41/41 [==============================] - 0s 6ms/step - loss: 0.5720 - accuracy: 1.9220e-04 - val_loss: 0.6195 - val_accuracy: 0.0000e+00\n",
            "Epoch 80/100\n",
            "41/41 [==============================] - 0s 6ms/step - loss: 0.5720 - accuracy: 1.9220e-04 - val_loss: 0.6195 - val_accuracy: 0.0000e+00\n",
            "Epoch 81/100\n",
            "41/41 [==============================] - 0s 6ms/step - loss: 0.5720 - accuracy: 1.9220e-04 - val_loss: 0.6195 - val_accuracy: 0.0000e+00\n",
            "Epoch 82/100\n",
            "41/41 [==============================] - 0s 6ms/step - loss: 0.5720 - accuracy: 1.9220e-04 - val_loss: 0.6195 - val_accuracy: 0.0000e+00\n",
            "Epoch 83/100\n",
            "41/41 [==============================] - 0s 6ms/step - loss: 0.5720 - accuracy: 1.9220e-04 - val_loss: 0.6195 - val_accuracy: 0.0000e+00\n",
            "Epoch 84/100\n",
            "41/41 [==============================] - 0s 7ms/step - loss: 0.5720 - accuracy: 1.9220e-04 - val_loss: 0.6195 - val_accuracy: 0.0000e+00\n",
            "Epoch 85/100\n",
            "41/41 [==============================] - 0s 6ms/step - loss: 0.5720 - accuracy: 1.9220e-04 - val_loss: 0.6195 - val_accuracy: 0.0000e+00\n",
            "Epoch 86/100\n",
            "41/41 [==============================] - 0s 6ms/step - loss: 0.5720 - accuracy: 1.9220e-04 - val_loss: 0.6195 - val_accuracy: 0.0000e+00\n",
            "Epoch 87/100\n",
            "41/41 [==============================] - 0s 6ms/step - loss: 0.5720 - accuracy: 1.9220e-04 - val_loss: 0.6195 - val_accuracy: 0.0000e+00\n",
            "Epoch 88/100\n",
            "41/41 [==============================] - 0s 6ms/step - loss: 0.5720 - accuracy: 1.9220e-04 - val_loss: 0.6195 - val_accuracy: 0.0000e+00\n",
            "Epoch 89/100\n",
            "41/41 [==============================] - 0s 6ms/step - loss: 0.5720 - accuracy: 1.9220e-04 - val_loss: 0.6195 - val_accuracy: 0.0000e+00\n",
            "Epoch 90/100\n",
            "41/41 [==============================] - 0s 7ms/step - loss: 0.5720 - accuracy: 1.9220e-04 - val_loss: 0.6195 - val_accuracy: 0.0000e+00\n",
            "Epoch 91/100\n",
            "41/41 [==============================] - 0s 6ms/step - loss: 0.5720 - accuracy: 1.9220e-04 - val_loss: 0.6195 - val_accuracy: 0.0000e+00\n",
            "Epoch 92/100\n",
            "41/41 [==============================] - 0s 6ms/step - loss: 0.5720 - accuracy: 1.9220e-04 - val_loss: 0.6195 - val_accuracy: 0.0000e+00\n",
            "Epoch 93/100\n",
            "41/41 [==============================] - 0s 6ms/step - loss: 0.5720 - accuracy: 1.9220e-04 - val_loss: 0.6195 - val_accuracy: 0.0000e+00\n",
            "Epoch 94/100\n",
            "41/41 [==============================] - 0s 7ms/step - loss: 0.5720 - accuracy: 1.9220e-04 - val_loss: 0.6195 - val_accuracy: 0.0000e+00\n",
            "Epoch 95/100\n",
            "41/41 [==============================] - 0s 6ms/step - loss: 0.5720 - accuracy: 1.9220e-04 - val_loss: 0.6195 - val_accuracy: 0.0000e+00\n",
            "Epoch 96/100\n",
            "41/41 [==============================] - 0s 6ms/step - loss: 0.5720 - accuracy: 1.9220e-04 - val_loss: 0.6195 - val_accuracy: 0.0000e+00\n",
            "Epoch 97/100\n",
            "41/41 [==============================] - 0s 6ms/step - loss: 0.5720 - accuracy: 1.9220e-04 - val_loss: 0.6195 - val_accuracy: 0.0000e+00\n",
            "Epoch 98/100\n",
            "41/41 [==============================] - 0s 7ms/step - loss: 0.5720 - accuracy: 1.9220e-04 - val_loss: 0.6195 - val_accuracy: 0.0000e+00\n",
            "Epoch 99/100\n",
            "41/41 [==============================] - 0s 6ms/step - loss: 0.5720 - accuracy: 1.9220e-04 - val_loss: 0.6195 - val_accuracy: 0.0000e+00\n",
            "Epoch 100/100\n",
            "41/41 [==============================] - 0s 6ms/step - loss: 0.5720 - accuracy: 1.9220e-04 - val_loss: 0.6195 - val_accuracy: 0.0000e+00\n"
          ]
        }
      ]
    },
    {
      "cell_type": "code",
      "source": [
        "#visualize the training loss and the validation loss to see if the model is overfitting\n",
        "pyplot.plot(hist.history['loss'])\n",
        "pyplot.plot(hist.history['val_loss'])\n",
        "pyplot.title('Model loss')\n",
        "pyplot.ylabel('Loss')\n",
        "pyplot.xlabel('Epoch')\n",
        "pyplot.legend(['Train', 'Val'], loc='upper right')\n",
        "pyplot.show()"
      ],
      "metadata": {
        "colab": {
          "base_uri": "https://localhost:8080/",
          "height": 295
        },
        "id": "tA35aSo4-vUv",
        "outputId": "124ba5c6-6a52-49df-8fa9-84b045b95a4d"
      },
      "execution_count": 110,
      "outputs": [
        {
          "output_type": "display_data",
          "data": {
            "text/plain": [
              "<Figure size 432x288 with 1 Axes>"
            ],
            "image/png": "[encoded data removed]"
          },
          "metadata": {
            "needs_background": "light"
          }
        }
      ]
    },
    {
      "cell_type": "code",
      "source": [
        "#visualize the training accuracy and the validation accuracy to see if the model is overfitting\n",
        "pyplot.plot(hist.history['accuracy'])\n",
        "pyplot.plot(hist.history['val_accuracy'])\n",
        "pyplot.title('Model accuracy')\n",
        "pyplot.ylabel('Accuracy')\n",
        "pyplot.xlabel('Epoch')\n",
        "pyplot.legend(['Train', 'Val'], loc='lower right')\n",
        "pyplot.show()"
      ],
      "metadata": {
        "colab": {
          "base_uri": "https://localhost:8080/",
          "height": 295
        },
        "id": "omMSdvul_HL5",
        "outputId": "1cb7a0c8-0cf3-4238-8e81-7f677d342169"
      },
      "execution_count": 111,
      "outputs": [
        {
          "output_type": "display_data",
          "data": {
            "text/plain": [
              "<Figure size 432x288 with 1 Axes>"
            ],
            "image/png": "[encoded data removed]"
          },
          "metadata": {
            "needs_background": "light"
          }
        }
      ]
    },
    {
      "cell_type": "code",
      "source": [
        "#Make a prediction & print the actual values\n",
        "prediction = model.predict(XX_test)\n",
        "#prediction  = [1 if y>=0.5 else 0 for y in prediction] #Threshold\n",
        "#print(prediction)\n",
        "#print(y_test)"
      ],
      "metadata": {
        "colab": {
          "base_uri": "https://localhost:8080/"
        },
        "id": "AOG4CywZ_IsB",
        "outputId": "74e751ab-69f3-4681-e67d-d64400be8de6"
      },
      "execution_count": 112,
      "outputs": [
        {
          "output_type": "stream",
          "name": "stdout",
          "text": [
            "22/22 [==============================] - 0s 7ms/step\n"
          ]
        }
      ]
    },
    {
      "cell_type": "code",
      "execution_count": 113,
      "metadata": {
        "colab": {
          "base_uri": "https://localhost:8080/",
          "height": 279
        },
        "outputId": "02c09c05-75b2-46e6-93b7-694496ac0aad",
        "id": "6PnJ43hqBJop"
      },
      "outputs": [
        {
          "output_type": "display_data",
          "data": {
            "text/plain": [
              "<Figure size 1080x288 with 1 Axes>"
            ],
            "image/png": "[encoded data removed]"
          },
          "metadata": {
            "needs_background": "light"
          }
        }
      ],
      "source": [
        "fig, axs = pyplot.subplots()\n",
        "fig.set_figheight(4)\n",
        "fig.set_figwidth(15)\n",
        "axs.plot(predictions, color='red', label='Predicted')\n",
        "axs.plot(Y_test, color='blue', label='Actual')\n",
        "pyplot.xlabel('Timestamp')\n",
        "pyplot.ylabel('Groundwater Level')\n",
        "pyplot.legend(loc='upper left')\n",
        "pyplot.show()"
      ]
    },
    {
      "cell_type": "code",
      "execution_count": 114,
      "metadata": {
        "colab": {
          "base_uri": "https://localhost:8080/"
        },
        "outputId": "037884b9-478e-43d3-873b-5e006c43d3d4",
        "id": "FiixXSg1EYbJ"
      },
      "outputs": [
        {
          "output_type": "stream",
          "name": "stdout",
          "text": [
            "0.10748421114813381\n",
            "0.41101657764808264\n"
          ]
        }
      ],
      "source": [
        "from sklearn.metrics import mean_squared_error\n",
        "from math import sqrt\n",
        "mse = sqrt(mean_squared_error(Y_test, predictions))\n",
        "print(mse)\n",
        "r2score_ann = r2_score(Y_test, predictions)\n",
        "print(r2score_ann)"
      ]
    }
  ]
}